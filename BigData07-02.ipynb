{
 "cells": [
  {
   "cell_type": "markdown",
   "id": "e99acb3d",
   "metadata": {},
   "source": [
    "## 7장 2절 t-test"
   ]
  },
  {
   "cell_type": "markdown",
   "id": "a9522111",
   "metadata": {},
   "source": [
    "### 일표본 T-검정(One Sample t-test)"
   ]
  },
  {
   "cell_type": "code",
   "execution_count": 3,
   "id": "3a369a3c",
   "metadata": {},
   "outputs": [
    {
     "data": {
      "text/html": [
       "<div>\n",
       "<style scoped>\n",
       "    .dataframe tbody tr th:only-of-type {\n",
       "        vertical-align: middle;\n",
       "    }\n",
       "\n",
       "    .dataframe tbody tr th {\n",
       "        vertical-align: top;\n",
       "    }\n",
       "\n",
       "    .dataframe thead th {\n",
       "        text-align: right;\n",
       "    }\n",
       "</style>\n",
       "<table border=\"1\" class=\"dataframe\">\n",
       "  <thead>\n",
       "    <tr style=\"text-align: right;\">\n",
       "      <th></th>\n",
       "      <th>Sex</th>\n",
       "      <th>Bwt</th>\n",
       "      <th>Hwt</th>\n",
       "    </tr>\n",
       "  </thead>\n",
       "  <tbody>\n",
       "    <tr>\n",
       "      <th>0</th>\n",
       "      <td>F</td>\n",
       "      <td>2.0</td>\n",
       "      <td>7.0</td>\n",
       "    </tr>\n",
       "    <tr>\n",
       "      <th>1</th>\n",
       "      <td>F</td>\n",
       "      <td>2.0</td>\n",
       "      <td>7.4</td>\n",
       "    </tr>\n",
       "    <tr>\n",
       "      <th>2</th>\n",
       "      <td>F</td>\n",
       "      <td>2.0</td>\n",
       "      <td>9.5</td>\n",
       "    </tr>\n",
       "    <tr>\n",
       "      <th>3</th>\n",
       "      <td>F</td>\n",
       "      <td>2.1</td>\n",
       "      <td>7.2</td>\n",
       "    </tr>\n",
       "    <tr>\n",
       "      <th>4</th>\n",
       "      <td>F</td>\n",
       "      <td>2.1</td>\n",
       "      <td>7.3</td>\n",
       "    </tr>\n",
       "  </tbody>\n",
       "</table>\n",
       "</div>"
      ],
      "text/plain": [
       "  Sex  Bwt  Hwt\n",
       "0   F  2.0  7.0\n",
       "1   F  2.0  7.4\n",
       "2   F  2.0  9.5\n",
       "3   F  2.1  7.2\n",
       "4   F  2.1  7.3"
      ]
     },
     "execution_count": 3,
     "metadata": {},
     "output_type": "execute_result"
    }
   ],
   "source": [
    "import pandas as pd\n",
    "\n",
    "df_cats = pd.read_csv('./data/cats.csv')\n",
    "df_cats.head()"
   ]
  },
  {
   "cell_type": "code",
   "execution_count": 4,
   "id": "b7cd58ab",
   "metadata": {},
   "outputs": [
    {
     "name": "stdout",
     "output_type": "stream",
     "text": [
      "<class 'pandas.core.frame.DataFrame'>\n",
      "RangeIndex: 144 entries, 0 to 143\n",
      "Data columns (total 3 columns):\n",
      " #   Column  Non-Null Count  Dtype  \n",
      "---  ------  --------------  -----  \n",
      " 0   Sex     144 non-null    object \n",
      " 1   Bwt     144 non-null    float64\n",
      " 2   Hwt     144 non-null    float64\n",
      "dtypes: float64(2), object(1)\n",
      "memory usage: 3.5+ KB\n"
     ]
    }
   ],
   "source": [
    "df_cats.info()"
   ]
  },
  {
   "cell_type": "code",
   "execution_count": 6,
   "id": "54968c1b",
   "metadata": {},
   "outputs": [
    {
     "data": {
      "text/plain": [
       "ShapiroResult(statistic=0.9518786668777466, pvalue=6.730228778906167e-05)"
      ]
     },
     "execution_count": 6,
     "metadata": {},
     "output_type": "execute_result"
    }
   ],
   "source": [
    "import scipy.stats as stats\n",
    "from scipy.stats import shapiro\n",
    "\n",
    "mu=2.6\n",
    "shapiro(df_cats['Bwt'])"
   ]
  },
  {
   "cell_type": "code",
   "execution_count": 7,
   "id": "64f3bfd8",
   "metadata": {},
   "outputs": [
    {
     "data": {
      "text/plain": [
       "WilcoxonResult(statistic=3573.0, pvalue=0.02524520294814093)"
      ]
     },
     "execution_count": 7,
     "metadata": {},
     "output_type": "execute_result"
    }
   ],
   "source": [
    "stats.wilcoxon(df_cats['Bwt']-mu, alternative='two-sided')"
   ]
  },
  {
   "cell_type": "code",
   "execution_count": 10,
   "id": "3454dd34",
   "metadata": {},
   "outputs": [
    {
     "data": {
      "text/plain": [
       "2.0     5\n",
       "2.1    10\n",
       "2.2    14\n",
       "2.3    13\n",
       "2.4     9\n",
       "2.5    10\n",
       "2.6     9\n",
       "2.7    12\n",
       "2.9     8\n",
       "3.0    11\n",
       "2.8     7\n",
       "3.1     6\n",
       "3.2     6\n",
       "3.3     5\n",
       "3.4     5\n",
       "3.5     5\n",
       "3.6     4\n",
       "3.7     1\n",
       "3.8     2\n",
       "3.9     2\n",
       "Name: count, dtype: int64"
      ]
     },
     "execution_count": 10,
     "metadata": {},
     "output_type": "execute_result"
    }
   ],
   "source": [
    "import matplotlib.pyplot as plt\n",
    "\n",
    "cats_Bwt_cnt = pd.value_counts(df_cats['Bwt'].values, sort=False)\n",
    "cats_Bwt_cnt"
   ]
  },
  {
   "cell_type": "code",
   "execution_count": 12,
   "id": "dbaef99e",
   "metadata": {},
   "outputs": [
    {
     "data": {
      "image/png": "[encoded data removed]",
      "text/plain": [
       "<Figure size 640x480 with 1 Axes>"
      ]
     },
     "metadata": {},
     "output_type": "display_data"
    }
   ],
   "source": [
    "width=0.4\n",
    "plt.bar(cats_Bwt_cnt.index, cats_Bwt_cnt.values, width)\n",
    "plt.title('Bwt')\n",
    "plt.ylabel('count')\n",
    "plt.show()"
   ]
  },
  {
   "cell_type": "markdown",
   "id": "11bb7dbd",
   "metadata": {},
   "source": [
    "### 대응표본 T-검정(Paired Sample t-test)"
   ]
  },
  {
   "cell_type": "code",
   "execution_count": 13,
   "id": "dc5d6ffb",
   "metadata": {},
   "outputs": [
    {
     "data": {
      "text/html": [
       "<div>\n",
       "<style scoped>\n",
       "    .dataframe tbody tr th:only-of-type {\n",
       "        vertical-align: middle;\n",
       "    }\n",
       "\n",
       "    .dataframe tbody tr th {\n",
       "        vertical-align: top;\n",
       "    }\n",
       "\n",
       "    .dataframe thead th {\n",
       "        text-align: right;\n",
       "    }\n",
       "</style>\n",
       "<table border=\"1\" class=\"dataframe\">\n",
       "  <thead>\n",
       "    <tr style=\"text-align: right;\">\n",
       "      <th></th>\n",
       "      <th>before</th>\n",
       "      <th>after</th>\n",
       "    </tr>\n",
       "  </thead>\n",
       "  <tbody>\n",
       "    <tr>\n",
       "      <th>0</th>\n",
       "      <td>7</td>\n",
       "      <td>8</td>\n",
       "    </tr>\n",
       "    <tr>\n",
       "      <th>1</th>\n",
       "      <td>3</td>\n",
       "      <td>4</td>\n",
       "    </tr>\n",
       "    <tr>\n",
       "      <th>2</th>\n",
       "      <td>4</td>\n",
       "      <td>5</td>\n",
       "    </tr>\n",
       "    <tr>\n",
       "      <th>3</th>\n",
       "      <td>5</td>\n",
       "      <td>6</td>\n",
       "    </tr>\n",
       "    <tr>\n",
       "      <th>4</th>\n",
       "      <td>2</td>\n",
       "      <td>2</td>\n",
       "    </tr>\n",
       "    <tr>\n",
       "      <th>5</th>\n",
       "      <td>1</td>\n",
       "      <td>3</td>\n",
       "    </tr>\n",
       "    <tr>\n",
       "      <th>6</th>\n",
       "      <td>6</td>\n",
       "      <td>6</td>\n",
       "    </tr>\n",
       "    <tr>\n",
       "      <th>7</th>\n",
       "      <td>6</td>\n",
       "      <td>8</td>\n",
       "    </tr>\n",
       "    <tr>\n",
       "      <th>8</th>\n",
       "      <td>5</td>\n",
       "      <td>6</td>\n",
       "    </tr>\n",
       "    <tr>\n",
       "      <th>9</th>\n",
       "      <td>4</td>\n",
       "      <td>5</td>\n",
       "    </tr>\n",
       "  </tbody>\n",
       "</table>\n",
       "</div>"
      ],
      "text/plain": [
       "   before  after\n",
       "0       7      8\n",
       "1       3      4\n",
       "2       4      5\n",
       "3       5      6\n",
       "4       2      2\n",
       "5       1      3\n",
       "6       6      6\n",
       "7       6      8\n",
       "8       5      6\n",
       "9       4      5"
      ]
     },
     "execution_count": 13,
     "metadata": {},
     "output_type": "execute_result"
    }
   ],
   "source": [
    "import pandas as pd\n",
    "\n",
    "data = {'before':[7,3,4,5,2,1,6,6,5,4], 'after':[8,4,5,6,2,3,6,8,6,5]}\n",
    "df_data = pd.DataFrame(data=data)\n",
    "df_data"
   ]
  },
  {
   "cell_type": "code",
   "execution_count": 14,
   "id": "f53eff6f",
   "metadata": {},
   "outputs": [],
   "source": [
    "import scipy.stats as stats\n",
    "from scipy.stats import shapiro\n"
   ]
  },
  {
   "cell_type": "code",
   "execution_count": 15,
   "id": "e02a8c49",
   "metadata": {},
   "outputs": [
    {
     "data": {
      "text/plain": [
       "TtestResult(statistic=4.743416490252569, pvalue=0.0005269356285082764, df=9)"
      ]
     },
     "execution_count": 15,
     "metadata": {},
     "output_type": "execute_result"
    }
   ],
   "source": [
    "stats.ttest_rel(a=df_data['after'], b=df_data['before'], alternative='greater')"
   ]
  },
  {
   "cell_type": "code",
   "execution_count": 16,
   "id": "715f14c6",
   "metadata": {},
   "outputs": [
    {
     "data": {
      "text/plain": [
       "before    4.3\n",
       "after     5.3\n",
       "dtype: float64"
      ]
     },
     "execution_count": 16,
     "metadata": {},
     "output_type": "execute_result"
    }
   ],
   "source": [
    "df_data.mean()"
   ]
  },
  {
   "cell_type": "markdown",
   "id": "5a6a9a5c",
   "metadata": {},
   "source": [
    "### 독립표본 T-검정(Independent Sample t-test)"
   ]
  },
  {
   "cell_type": "code",
   "execution_count": 19,
   "id": "7f640a6d",
   "metadata": {},
   "outputs": [],
   "source": [
    "import pandas as pd\n",
    "\n",
    "df_cats = pd.read_csv('./data/cats.csv')\n",
    "\n",
    "df_fcat=df_cats.loc[df_cats['Sex']=='F', 'Bwt']\n",
    "df_mcat=df_cats.loc[df_cats['Sex']=='M', 'Bwt']\n"
   ]
  },
  {
   "cell_type": "code",
   "execution_count": 21,
   "id": "9b9beba5",
   "metadata": {},
   "outputs": [
    {
     "data": {
      "text/plain": [
       "LeveneResult(statistic=19.43101190877999, pvalue=2.0435285255189404e-05)"
      ]
     },
     "execution_count": 21,
     "metadata": {},
     "output_type": "execute_result"
    }
   ],
   "source": [
    "import scipy.stats as stats\n",
    "\n",
    "stats.levene(df_fcat, df_mcat)"
   ]
  },
  {
   "cell_type": "code",
   "execution_count": 22,
   "id": "84ec5685",
   "metadata": {},
   "outputs": [
    {
     "data": {
      "text/plain": [
       "TtestResult(statistic=-8.70948849909559, pvalue=8.831034455859356e-15, df=136.83788299625363)"
      ]
     },
     "execution_count": 22,
     "metadata": {},
     "output_type": "execute_result"
    }
   ],
   "source": [
    "stats.ttest_ind(df_fcat, df_mcat, equal_var=False)"
   ]
  },
  {
   "cell_type": "code",
   "execution_count": 23,
   "id": "8db1b384",
   "metadata": {},
   "outputs": [
    {
     "name": "stdout",
     "output_type": "stream",
     "text": [
      "2.359574468085107\n",
      "2.8999999999999995\n"
     ]
    }
   ],
   "source": [
    "print(df_fcat.mean())\n",
    "print(df_mcat.mean())"
   ]
  },
  {
   "cell_type": "code",
   "execution_count": 28,
   "id": "8e2fd6d8",
   "metadata": {},
   "outputs": [
    {
     "data": {
      "text/plain": [
       "pandas.core.series.Series"
      ]
     },
     "execution_count": 28,
     "metadata": {},
     "output_type": "execute_result"
    }
   ],
   "source": [
    "type(df_fcat)"
   ]
  },
  {
   "cell_type": "code",
   "execution_count": 34,
   "id": "b4b4bedb",
   "metadata": {},
   "outputs": [
    {
     "data": {
      "image/png": "[encoded data removed]",
      "text/plain": [
       "<Figure size 2000x500 with 2 Axes>"
      ]
     },
     "metadata": {},
     "output_type": "display_data"
    }
   ],
   "source": [
    "fcat_Bwt_cnt = pd.value_counts(df_fcat.values, sort=False)\n",
    "mcat_Bwt_cnt = pd.value_counts(df_mcat.values, sort=False)\n",
    "\n",
    "fig, axs = plt.subplots(1, 2, figsize = (20,5))\n",
    "width = 0.4\n",
    "\n",
    "axs[0].bar(fcat_Bwt_cnt.index, fcat_Bwt_cnt.values)\n",
    "axs[0].set_title('female_Bwt')\n",
    "axs[0].set_ylabel('Count')\n",
    "axs[1].bar(mcat_Bwt_cnt.index, mcat_Bwt_cnt.values)\n",
    "axs[1].set_title('male_Bwt')\n",
    "axs[1].set_ylabel('Count')\n",
    "plt.show()"
   ]
  },
  {
   "cell_type": "code",
   "execution_count": null,
   "id": "95fb3382",
   "metadata": {},
   "outputs": [],
   "source": []
  }
 ],
 "metadata": {
  "kernelspec": {
   "display_name": "Python 3 (ipykernel)",
   "language": "python",
   "name": "python3"
  },
  "language_info": {
   "codemirror_mode": {
    "name": "ipython",
    "version": 3
   },
   "file_extension": ".py",
   "mimetype": "text/x-python",
   "name": "python",
   "nbconvert_exporter": "python",
   "pygments_lexer": "ipython3",
   "version": "3.9.19"
  }
 },
 "nbformat": 4,
 "nbformat_minor": 5
}
