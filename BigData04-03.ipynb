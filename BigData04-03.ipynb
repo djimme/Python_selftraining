{
 "cells": [
  {
   "cell_type": "markdown",
   "id": "83ad7aed",
   "metadata": {},
   "source": [
    "## 4장 3절 범주형 변수 처리"
   ]
  },
  {
   "cell_type": "code",
   "execution_count": 1,
   "id": "00a0f793",
   "metadata": {},
   "outputs": [],
   "source": [
    "import pandas as pd\n",
    "from sklearn.datasets import load_iris"
   ]
  },
  {
   "cell_type": "code",
   "execution_count": null,
   "id": "d5ee9f22",
   "metadata": {},
   "outputs": [],
   "source": [
    "iris = load_iris()\n",
    "df_iris = pd.DataFrame(data=iris.data, columns=iris.feature_names)\n",
    "df_iris['class'] = iris.target\n",
    "df_iris['class'] = df_iris['class'].map({0:''})"
   ]
  }
 ],
 "metadata": {
  "kernelspec": {
   "display_name": "Python 3 (ipykernel)",
   "language": "python",
   "name": "python3"
  },
  "language_info": {
   "codemirror_mode": {
    "name": "ipython",
    "version": 3
   },
   "file_extension": ".py",
   "mimetype": "text/x-python",
   "name": "python",
   "nbconvert_exporter": "python",
   "pygments_lexer": "ipython3",
   "version": "3.9.19"
  }
 },
 "nbformat": 4,
 "nbformat_minor": 5
}
