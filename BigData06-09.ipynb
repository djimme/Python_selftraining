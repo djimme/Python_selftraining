{
 "cells": [
  {
   "cell_type": "markdown",
   "id": "48c8f4f1",
   "metadata": {},
   "source": [
    "## 6장 9절 나이브베이즈(Naive Bayes) 분류"
   ]
  },
  {
   "cell_type": "markdown",
   "id": "0ae37357",
   "metadata": {},
   "source": [
    "### scikit-learn의 GaussianNB"
   ]
  },
  {
   "cell_type": "code",
   "execution_count": 1,
   "id": "50b01d27",
   "metadata": {},
   "outputs": [],
   "source": [
    "import pandas as pd\n",
    "import numpy as np"
   ]
  },
  {
   "cell_type": "code",
   "execution_count": 2,
   "id": "e35cd620",
   "metadata": {},
   "outputs": [
    {
     "data": {
      "text/html": [
       "<div>\n",
       "<style scoped>\n",
       "    .dataframe tbody tr th:only-of-type {\n",
       "        vertical-align: middle;\n",
       "    }\n",
       "\n",
       "    .dataframe tbody tr th {\n",
       "        vertical-align: top;\n",
       "    }\n",
       "\n",
       "    .dataframe thead th {\n",
       "        text-align: right;\n",
       "    }\n",
       "</style>\n",
       "<table border=\"1\" class=\"dataframe\">\n",
       "  <thead>\n",
       "    <tr style=\"text-align: right;\">\n",
       "      <th></th>\n",
       "      <th>objid</th>\n",
       "      <th>ra</th>\n",
       "      <th>dec</th>\n",
       "      <th>u</th>\n",
       "      <th>g</th>\n",
       "      <th>r</th>\n",
       "      <th>i</th>\n",
       "      <th>z</th>\n",
       "      <th>run</th>\n",
       "      <th>rerun</th>\n",
       "      <th>camcol</th>\n",
       "      <th>field</th>\n",
       "      <th>specobjid</th>\n",
       "      <th>class</th>\n",
       "      <th>redshift</th>\n",
       "      <th>plate</th>\n",
       "      <th>mjd</th>\n",
       "      <th>fiberid</th>\n",
       "    </tr>\n",
       "  </thead>\n",
       "  <tbody>\n",
       "    <tr>\n",
       "      <th>0</th>\n",
       "      <td>1.237650e+18</td>\n",
       "      <td>183.531326</td>\n",
       "      <td>0.089693</td>\n",
       "      <td>19.47406</td>\n",
       "      <td>17.04240</td>\n",
       "      <td>15.94699</td>\n",
       "      <td>15.50342</td>\n",
       "      <td>15.22531</td>\n",
       "      <td>752</td>\n",
       "      <td>301</td>\n",
       "      <td>4</td>\n",
       "      <td>267</td>\n",
       "      <td>3.722360e+18</td>\n",
       "      <td>STAR</td>\n",
       "      <td>-0.000009</td>\n",
       "      <td>3306</td>\n",
       "      <td>54922</td>\n",
       "      <td>491</td>\n",
       "    </tr>\n",
       "    <tr>\n",
       "      <th>1</th>\n",
       "      <td>1.237650e+18</td>\n",
       "      <td>183.598370</td>\n",
       "      <td>0.135285</td>\n",
       "      <td>18.66280</td>\n",
       "      <td>17.21449</td>\n",
       "      <td>16.67637</td>\n",
       "      <td>16.48922</td>\n",
       "      <td>16.39150</td>\n",
       "      <td>752</td>\n",
       "      <td>301</td>\n",
       "      <td>4</td>\n",
       "      <td>267</td>\n",
       "      <td>3.638140e+17</td>\n",
       "      <td>STAR</td>\n",
       "      <td>-0.000055</td>\n",
       "      <td>323</td>\n",
       "      <td>51615</td>\n",
       "      <td>541</td>\n",
       "    </tr>\n",
       "    <tr>\n",
       "      <th>2</th>\n",
       "      <td>1.237650e+18</td>\n",
       "      <td>183.680207</td>\n",
       "      <td>0.126185</td>\n",
       "      <td>19.38298</td>\n",
       "      <td>18.19169</td>\n",
       "      <td>17.47428</td>\n",
       "      <td>17.08732</td>\n",
       "      <td>16.80125</td>\n",
       "      <td>752</td>\n",
       "      <td>301</td>\n",
       "      <td>4</td>\n",
       "      <td>268</td>\n",
       "      <td>3.232740e+17</td>\n",
       "      <td>GALAXY</td>\n",
       "      <td>0.123111</td>\n",
       "      <td>287</td>\n",
       "      <td>52023</td>\n",
       "      <td>513</td>\n",
       "    </tr>\n",
       "    <tr>\n",
       "      <th>3</th>\n",
       "      <td>1.237650e+18</td>\n",
       "      <td>183.870529</td>\n",
       "      <td>0.049911</td>\n",
       "      <td>17.76536</td>\n",
       "      <td>16.60272</td>\n",
       "      <td>16.16116</td>\n",
       "      <td>15.98233</td>\n",
       "      <td>15.90438</td>\n",
       "      <td>752</td>\n",
       "      <td>301</td>\n",
       "      <td>4</td>\n",
       "      <td>269</td>\n",
       "      <td>3.722370e+18</td>\n",
       "      <td>STAR</td>\n",
       "      <td>-0.000111</td>\n",
       "      <td>3306</td>\n",
       "      <td>54922</td>\n",
       "      <td>510</td>\n",
       "    </tr>\n",
       "    <tr>\n",
       "      <th>4</th>\n",
       "      <td>1.237650e+18</td>\n",
       "      <td>183.883288</td>\n",
       "      <td>0.102557</td>\n",
       "      <td>17.55025</td>\n",
       "      <td>16.26342</td>\n",
       "      <td>16.43869</td>\n",
       "      <td>16.55492</td>\n",
       "      <td>16.61326</td>\n",
       "      <td>752</td>\n",
       "      <td>301</td>\n",
       "      <td>4</td>\n",
       "      <td>269</td>\n",
       "      <td>3.722370e+18</td>\n",
       "      <td>STAR</td>\n",
       "      <td>0.000590</td>\n",
       "      <td>3306</td>\n",
       "      <td>54922</td>\n",
       "      <td>512</td>\n",
       "    </tr>\n",
       "    <tr>\n",
       "      <th>...</th>\n",
       "      <td>...</td>\n",
       "      <td>...</td>\n",
       "      <td>...</td>\n",
       "      <td>...</td>\n",
       "      <td>...</td>\n",
       "      <td>...</td>\n",
       "      <td>...</td>\n",
       "      <td>...</td>\n",
       "      <td>...</td>\n",
       "      <td>...</td>\n",
       "      <td>...</td>\n",
       "      <td>...</td>\n",
       "      <td>...</td>\n",
       "      <td>...</td>\n",
       "      <td>...</td>\n",
       "      <td>...</td>\n",
       "      <td>...</td>\n",
       "      <td>...</td>\n",
       "    </tr>\n",
       "    <tr>\n",
       "      <th>9995</th>\n",
       "      <td>1.237650e+18</td>\n",
       "      <td>131.316413</td>\n",
       "      <td>51.539547</td>\n",
       "      <td>18.81777</td>\n",
       "      <td>17.47053</td>\n",
       "      <td>16.91508</td>\n",
       "      <td>16.68305</td>\n",
       "      <td>16.50570</td>\n",
       "      <td>1345</td>\n",
       "      <td>301</td>\n",
       "      <td>3</td>\n",
       "      <td>161</td>\n",
       "      <td>5.033450e+17</td>\n",
       "      <td>GALAXY</td>\n",
       "      <td>0.027583</td>\n",
       "      <td>447</td>\n",
       "      <td>51877</td>\n",
       "      <td>246</td>\n",
       "    </tr>\n",
       "    <tr>\n",
       "      <th>9996</th>\n",
       "      <td>1.237650e+18</td>\n",
       "      <td>131.306083</td>\n",
       "      <td>51.671341</td>\n",
       "      <td>18.27255</td>\n",
       "      <td>17.43849</td>\n",
       "      <td>17.07692</td>\n",
       "      <td>16.71661</td>\n",
       "      <td>16.69897</td>\n",
       "      <td>1345</td>\n",
       "      <td>301</td>\n",
       "      <td>3</td>\n",
       "      <td>162</td>\n",
       "      <td>5.033400e+17</td>\n",
       "      <td>GALAXY</td>\n",
       "      <td>0.117772</td>\n",
       "      <td>447</td>\n",
       "      <td>51877</td>\n",
       "      <td>228</td>\n",
       "    </tr>\n",
       "    <tr>\n",
       "      <th>9997</th>\n",
       "      <td>1.237650e+18</td>\n",
       "      <td>131.552562</td>\n",
       "      <td>51.666986</td>\n",
       "      <td>18.75818</td>\n",
       "      <td>17.77784</td>\n",
       "      <td>17.51872</td>\n",
       "      <td>17.43302</td>\n",
       "      <td>17.42048</td>\n",
       "      <td>1345</td>\n",
       "      <td>301</td>\n",
       "      <td>3</td>\n",
       "      <td>162</td>\n",
       "      <td>8.222620e+18</td>\n",
       "      <td>STAR</td>\n",
       "      <td>-0.000402</td>\n",
       "      <td>7303</td>\n",
       "      <td>57013</td>\n",
       "      <td>622</td>\n",
       "    </tr>\n",
       "    <tr>\n",
       "      <th>9998</th>\n",
       "      <td>1.237650e+18</td>\n",
       "      <td>131.477151</td>\n",
       "      <td>51.753068</td>\n",
       "      <td>18.88287</td>\n",
       "      <td>17.91068</td>\n",
       "      <td>17.53152</td>\n",
       "      <td>17.36284</td>\n",
       "      <td>17.13988</td>\n",
       "      <td>1345</td>\n",
       "      <td>301</td>\n",
       "      <td>3</td>\n",
       "      <td>163</td>\n",
       "      <td>5.033400e+17</td>\n",
       "      <td>GALAXY</td>\n",
       "      <td>0.014019</td>\n",
       "      <td>447</td>\n",
       "      <td>51877</td>\n",
       "      <td>229</td>\n",
       "    </tr>\n",
       "    <tr>\n",
       "      <th>9999</th>\n",
       "      <td>1.237650e+18</td>\n",
       "      <td>131.665012</td>\n",
       "      <td>51.805307</td>\n",
       "      <td>19.27586</td>\n",
       "      <td>17.37829</td>\n",
       "      <td>16.30542</td>\n",
       "      <td>15.83548</td>\n",
       "      <td>15.50588</td>\n",
       "      <td>1345</td>\n",
       "      <td>301</td>\n",
       "      <td>3</td>\n",
       "      <td>163</td>\n",
       "      <td>5.033410e+17</td>\n",
       "      <td>GALAXY</td>\n",
       "      <td>0.118417</td>\n",
       "      <td>447</td>\n",
       "      <td>51877</td>\n",
       "      <td>233</td>\n",
       "    </tr>\n",
       "  </tbody>\n",
       "</table>\n",
       "<p>10000 rows × 18 columns</p>\n",
       "</div>"
      ],
      "text/plain": [
       "             objid          ra        dec         u         g         r  \\\n",
       "0     1.237650e+18  183.531326   0.089693  19.47406  17.04240  15.94699   \n",
       "1     1.237650e+18  183.598370   0.135285  18.66280  17.21449  16.67637   \n",
       "2     1.237650e+18  183.680207   0.126185  19.38298  18.19169  17.47428   \n",
       "3     1.237650e+18  183.870529   0.049911  17.76536  16.60272  16.16116   \n",
       "4     1.237650e+18  183.883288   0.102557  17.55025  16.26342  16.43869   \n",
       "...            ...         ...        ...       ...       ...       ...   \n",
       "9995  1.237650e+18  131.316413  51.539547  18.81777  17.47053  16.91508   \n",
       "9996  1.237650e+18  131.306083  51.671341  18.27255  17.43849  17.07692   \n",
       "9997  1.237650e+18  131.552562  51.666986  18.75818  17.77784  17.51872   \n",
       "9998  1.237650e+18  131.477151  51.753068  18.88287  17.91068  17.53152   \n",
       "9999  1.237650e+18  131.665012  51.805307  19.27586  17.37829  16.30542   \n",
       "\n",
       "             i         z   run  rerun  camcol  field     specobjid   class  \\\n",
       "0     15.50342  15.22531   752    301       4    267  3.722360e+18    STAR   \n",
       "1     16.48922  16.39150   752    301       4    267  3.638140e+17    STAR   \n",
       "2     17.08732  16.80125   752    301       4    268  3.232740e+17  GALAXY   \n",
       "3     15.98233  15.90438   752    301       4    269  3.722370e+18    STAR   \n",
       "4     16.55492  16.61326   752    301       4    269  3.722370e+18    STAR   \n",
       "...        ...       ...   ...    ...     ...    ...           ...     ...   \n",
       "9995  16.68305  16.50570  1345    301       3    161  5.033450e+17  GALAXY   \n",
       "9996  16.71661  16.69897  1345    301       3    162  5.033400e+17  GALAXY   \n",
       "9997  17.43302  17.42048  1345    301       3    162  8.222620e+18    STAR   \n",
       "9998  17.36284  17.13988  1345    301       3    163  5.033400e+17  GALAXY   \n",
       "9999  15.83548  15.50588  1345    301       3    163  5.033410e+17  GALAXY   \n",
       "\n",
       "      redshift  plate    mjd  fiberid  \n",
       "0    -0.000009   3306  54922      491  \n",
       "1    -0.000055    323  51615      541  \n",
       "2     0.123111    287  52023      513  \n",
       "3    -0.000111   3306  54922      510  \n",
       "4     0.000590   3306  54922      512  \n",
       "...        ...    ...    ...      ...  \n",
       "9995  0.027583    447  51877      246  \n",
       "9996  0.117772    447  51877      228  \n",
       "9997 -0.000402   7303  57013      622  \n",
       "9998  0.014019    447  51877      229  \n",
       "9999  0.118417    447  51877      233  \n",
       "\n",
       "[10000 rows x 18 columns]"
      ]
     },
     "execution_count": 2,
     "metadata": {},
     "output_type": "execute_result"
    }
   ],
   "source": [
    "df_sky = pd.read_csv('./data/Skyserver.csv')\n",
    "df_sky"
   ]
  },
  {
   "cell_type": "code",
   "execution_count": 3,
   "id": "9809f9c6",
   "metadata": {},
   "outputs": [
    {
     "name": "stdout",
     "output_type": "stream",
     "text": [
      "<class 'pandas.core.frame.DataFrame'>\n",
      "RangeIndex: 10000 entries, 0 to 9999\n",
      "Data columns (total 18 columns):\n",
      " #   Column     Non-Null Count  Dtype  \n",
      "---  ------     --------------  -----  \n",
      " 0   objid      10000 non-null  float64\n",
      " 1   ra         10000 non-null  float64\n",
      " 2   dec        10000 non-null  float64\n",
      " 3   u          10000 non-null  float64\n",
      " 4   g          10000 non-null  float64\n",
      " 5   r          10000 non-null  float64\n",
      " 6   i          10000 non-null  float64\n",
      " 7   z          10000 non-null  float64\n",
      " 8   run        10000 non-null  int64  \n",
      " 9   rerun      10000 non-null  int64  \n",
      " 10  camcol     10000 non-null  int64  \n",
      " 11  field      10000 non-null  int64  \n",
      " 12  specobjid  10000 non-null  float64\n",
      " 13  class      10000 non-null  object \n",
      " 14  redshift   10000 non-null  float64\n",
      " 15  plate      10000 non-null  int64  \n",
      " 16  mjd        10000 non-null  int64  \n",
      " 17  fiberid    10000 non-null  int64  \n",
      "dtypes: float64(10), int64(7), object(1)\n",
      "memory usage: 1.4+ MB\n"
     ]
    }
   ],
   "source": [
    "df_sky.info()"
   ]
  },
  {
   "cell_type": "code",
   "execution_count": 4,
   "id": "d9b77411",
   "metadata": {},
   "outputs": [
    {
     "data": {
      "text/plain": [
       "array(['STAR', 'GALAXY', 'QSO'], dtype=object)"
      ]
     },
     "execution_count": 4,
     "metadata": {},
     "output_type": "execute_result"
    }
   ],
   "source": [
    "df_sky['class'].unique()"
   ]
  },
  {
   "cell_type": "code",
   "execution_count": 8,
   "id": "0b6a44b3",
   "metadata": {},
   "outputs": [
    {
     "data": {
      "text/plain": [
       "<seaborn.axisgrid.PairGrid at 0x26628d6a9d0>"
      ]
     },
     "execution_count": 8,
     "metadata": {},
     "output_type": "execute_result"
    },
    {
     "data": {
      "image/png": "[encoded data removed]",
      "text/plain": [
       "<Figure size 616.125x540 with 12 Axes>"
      ]
     },
     "metadata": {
      "needs_background": "light"
     },
     "output_type": "display_data"
    }
   ],
   "source": [
    "import seaborn as sns\n",
    "sns.pairplot(hue='class', data=df_sky.loc[:, ['z', 'run', 'i','class']])"
   ]
  },
  {
   "cell_type": "code",
   "execution_count": 9,
   "id": "ea9614c3",
   "metadata": {},
   "outputs": [],
   "source": [
    "df_X = df_sky.drop(columns='class')\n",
    "df_Y = df_sky['class']"
   ]
  },
  {
   "cell_type": "code",
   "execution_count": 11,
   "id": "c6f1677d",
   "metadata": {},
   "outputs": [
    {
     "name": "stdout",
     "output_type": "stream",
     "text": [
      "(7000, 17) (3000, 17) (7000,) (3000,)\n"
     ]
    }
   ],
   "source": [
    "from sklearn.model_selection import train_test_split\n",
    "\n",
    "X_train, X_test, y_train, y_test = train_test_split(df_X, df_Y, train_size=0.7, random_state=1, stratify=df_Y)\n",
    "print(X_train.shape, X_test.shape, y_train.shape, y_test.shape)"
   ]
  },
  {
   "cell_type": "code",
   "execution_count": 15,
   "id": "2940bb88",
   "metadata": {},
   "outputs": [
    {
     "name": "stdout",
     "output_type": "stream",
     "text": [
      "Accuracy score:  0.799\n"
     ]
    }
   ],
   "source": [
    "from sklearn.naive_bayes import GaussianNB\n",
    "\n",
    "gNB = GaussianNB()\n",
    "pred = gNB.fit(X_train, y_train).predict(X_test)\n",
    "print('Accuracy score: ', gNB.score(X_test, y_test))"
   ]
  },
  {
   "cell_type": "code",
   "execution_count": 18,
   "id": "25dad74f",
   "metadata": {},
   "outputs": [
    {
     "data": {
      "text/plain": [
       "array([[8.26737014e-01, 4.43137039e-02, 1.28949282e-01],\n",
       "       [5.39851854e-05, 9.64092748e-02, 9.03536740e-01],\n",
       "       [8.32868012e-01, 4.48282737e-02, 1.22303715e-01]])"
      ]
     },
     "execution_count": 18,
     "metadata": {},
     "output_type": "execute_result"
    }
   ],
   "source": [
    "gNB.predict_proba(X_test)[[0, 13, 68]]"
   ]
  },
  {
   "cell_type": "code",
   "execution_count": 19,
   "id": "81adf770",
   "metadata": {},
   "outputs": [
    {
     "data": {
      "text/plain": [
       "array(['GALAXY', 'STAR', 'GALAXY'], dtype='<U6')"
      ]
     },
     "execution_count": 19,
     "metadata": {},
     "output_type": "execute_result"
    }
   ],
   "source": [
    "gNB.predict(X_test)[[0, 13, 68]]\n"
   ]
  },
  {
   "cell_type": "code",
   "execution_count": 20,
   "id": "d2754913",
   "metadata": {},
   "outputs": [
    {
     "name": "stdout",
     "output_type": "stream",
     "text": [
      "              precision    recall  f1-score   support\n",
      "\n",
      "      GALAXY       0.74      0.97      0.84      1499\n",
      "         QSO       0.00      0.00      0.00       255\n",
      "        STAR       0.91      0.75      0.83      1246\n",
      "\n",
      "    accuracy                           0.80      3000\n",
      "   macro avg       0.55      0.58      0.56      3000\n",
      "weighted avg       0.75      0.80      0.76      3000\n",
      "\n"
     ]
    },
    {
     "name": "stderr",
     "output_type": "stream",
     "text": [
      "C:\\Users\\djimm\\anaconda3\\lib\\site-packages\\sklearn\\metrics\\_classification.py:1318: UndefinedMetricWarning: Precision and F-score are ill-defined and being set to 0.0 in labels with no predicted samples. Use `zero_division` parameter to control this behavior.\n",
      "  _warn_prf(average, modifier, msg_start, len(result))\n",
      "C:\\Users\\djimm\\anaconda3\\lib\\site-packages\\sklearn\\metrics\\_classification.py:1318: UndefinedMetricWarning: Precision and F-score are ill-defined and being set to 0.0 in labels with no predicted samples. Use `zero_division` parameter to control this behavior.\n",
      "  _warn_prf(average, modifier, msg_start, len(result))\n",
      "C:\\Users\\djimm\\anaconda3\\lib\\site-packages\\sklearn\\metrics\\_classification.py:1318: UndefinedMetricWarning: Precision and F-score are ill-defined and being set to 0.0 in labels with no predicted samples. Use `zero_division` parameter to control this behavior.\n",
      "  _warn_prf(average, modifier, msg_start, len(result))\n"
     ]
    }
   ],
   "source": [
    "from sklearn.metrics import classification_report\n",
    "\n",
    "print(classification_report(y_true = y_test, y_pred=pred))"
   ]
  },
  {
   "cell_type": "markdown",
   "id": "90bf7fb7",
   "metadata": {},
   "source": [
    "### scikit-learn의 BernoulliNB"
   ]
  },
  {
   "cell_type": "code",
   "execution_count": 29,
   "id": "fd6cc23b",
   "metadata": {},
   "outputs": [
    {
     "name": "stdout",
     "output_type": "stream",
     "text": [
      "<class 'pandas.core.frame.DataFrame'>\n",
      "RangeIndex: 5572 entries, 0 to 5571\n",
      "Data columns (total 5 columns):\n",
      " #   Column      Non-Null Count  Dtype \n",
      "---  ------      --------------  ----- \n",
      " 0   v1          5572 non-null   object\n",
      " 1   v2          5572 non-null   object\n",
      " 2   Unnamed: 2  50 non-null     object\n",
      " 3   Unnamed: 3  12 non-null     object\n",
      " 4   Unnamed: 4  6 non-null      object\n",
      "dtypes: object(5)\n",
      "memory usage: 217.8+ KB\n"
     ]
    }
   ],
   "source": [
    "df_spam = pd.read_csv('./data/spam.csv')\n",
    "df_spam.info()"
   ]
  },
  {
   "cell_type": "code",
   "execution_count": 30,
   "id": "65874d14",
   "metadata": {},
   "outputs": [
    {
     "data": {
      "text/html": [
       "<div>\n",
       "<style scoped>\n",
       "    .dataframe tbody tr th:only-of-type {\n",
       "        vertical-align: middle;\n",
       "    }\n",
       "\n",
       "    .dataframe tbody tr th {\n",
       "        vertical-align: top;\n",
       "    }\n",
       "\n",
       "    .dataframe thead th {\n",
       "        text-align: right;\n",
       "    }\n",
       "</style>\n",
       "<table border=\"1\" class=\"dataframe\">\n",
       "  <thead>\n",
       "    <tr style=\"text-align: right;\">\n",
       "      <th></th>\n",
       "      <th>v1</th>\n",
       "      <th>v2</th>\n",
       "      <th>Unnamed: 2</th>\n",
       "      <th>Unnamed: 3</th>\n",
       "      <th>Unnamed: 4</th>\n",
       "    </tr>\n",
       "  </thead>\n",
       "  <tbody>\n",
       "    <tr>\n",
       "      <th>0</th>\n",
       "      <td>ham</td>\n",
       "      <td>Go until jurong point, crazy.. Available only ...</td>\n",
       "      <td>NaN</td>\n",
       "      <td>NaN</td>\n",
       "      <td>NaN</td>\n",
       "    </tr>\n",
       "    <tr>\n",
       "      <th>1</th>\n",
       "      <td>ham</td>\n",
       "      <td>Ok lar... Joking wif u oni...</td>\n",
       "      <td>NaN</td>\n",
       "      <td>NaN</td>\n",
       "      <td>NaN</td>\n",
       "    </tr>\n",
       "    <tr>\n",
       "      <th>2</th>\n",
       "      <td>spam</td>\n",
       "      <td>Free entry in 2 a wkly comp to win FA Cup fina...</td>\n",
       "      <td>NaN</td>\n",
       "      <td>NaN</td>\n",
       "      <td>NaN</td>\n",
       "    </tr>\n",
       "    <tr>\n",
       "      <th>3</th>\n",
       "      <td>ham</td>\n",
       "      <td>U dun say so early hor... U c already then say...</td>\n",
       "      <td>NaN</td>\n",
       "      <td>NaN</td>\n",
       "      <td>NaN</td>\n",
       "    </tr>\n",
       "    <tr>\n",
       "      <th>4</th>\n",
       "      <td>ham</td>\n",
       "      <td>Nah I don't think he goes to usf, he lives aro...</td>\n",
       "      <td>NaN</td>\n",
       "      <td>NaN</td>\n",
       "      <td>NaN</td>\n",
       "    </tr>\n",
       "    <tr>\n",
       "      <th>...</th>\n",
       "      <td>...</td>\n",
       "      <td>...</td>\n",
       "      <td>...</td>\n",
       "      <td>...</td>\n",
       "      <td>...</td>\n",
       "    </tr>\n",
       "    <tr>\n",
       "      <th>5567</th>\n",
       "      <td>spam</td>\n",
       "      <td>This is the 2nd time we have tried 2 contact u...</td>\n",
       "      <td>NaN</td>\n",
       "      <td>NaN</td>\n",
       "      <td>NaN</td>\n",
       "    </tr>\n",
       "    <tr>\n",
       "      <th>5568</th>\n",
       "      <td>ham</td>\n",
       "      <td>Will ? b going to esplanade fr home?</td>\n",
       "      <td>NaN</td>\n",
       "      <td>NaN</td>\n",
       "      <td>NaN</td>\n",
       "    </tr>\n",
       "    <tr>\n",
       "      <th>5569</th>\n",
       "      <td>ham</td>\n",
       "      <td>Pity, * was in mood for that. So...any other s...</td>\n",
       "      <td>NaN</td>\n",
       "      <td>NaN</td>\n",
       "      <td>NaN</td>\n",
       "    </tr>\n",
       "    <tr>\n",
       "      <th>5570</th>\n",
       "      <td>ham</td>\n",
       "      <td>The guy did some bitching but I acted like i'd...</td>\n",
       "      <td>NaN</td>\n",
       "      <td>NaN</td>\n",
       "      <td>NaN</td>\n",
       "    </tr>\n",
       "    <tr>\n",
       "      <th>5571</th>\n",
       "      <td>ham</td>\n",
       "      <td>Rofl. Its true to its name</td>\n",
       "      <td>NaN</td>\n",
       "      <td>NaN</td>\n",
       "      <td>NaN</td>\n",
       "    </tr>\n",
       "  </tbody>\n",
       "</table>\n",
       "<p>5572 rows × 5 columns</p>\n",
       "</div>"
      ],
      "text/plain": [
       "        v1                                                 v2 Unnamed: 2  \\\n",
       "0      ham  Go until jurong point, crazy.. Available only ...        NaN   \n",
       "1      ham                      Ok lar... Joking wif u oni...        NaN   \n",
       "2     spam  Free entry in 2 a wkly comp to win FA Cup fina...        NaN   \n",
       "3      ham  U dun say so early hor... U c already then say...        NaN   \n",
       "4      ham  Nah I don't think he goes to usf, he lives aro...        NaN   \n",
       "...    ...                                                ...        ...   \n",
       "5567  spam  This is the 2nd time we have tried 2 contact u...        NaN   \n",
       "5568   ham               Will ? b going to esplanade fr home?        NaN   \n",
       "5569   ham  Pity, * was in mood for that. So...any other s...        NaN   \n",
       "5570   ham  The guy did some bitching but I acted like i'd...        NaN   \n",
       "5571   ham                         Rofl. Its true to its name        NaN   \n",
       "\n",
       "     Unnamed: 3 Unnamed: 4  \n",
       "0           NaN        NaN  \n",
       "1           NaN        NaN  \n",
       "2           NaN        NaN  \n",
       "3           NaN        NaN  \n",
       "4           NaN        NaN  \n",
       "...         ...        ...  \n",
       "5567        NaN        NaN  \n",
       "5568        NaN        NaN  \n",
       "5569        NaN        NaN  \n",
       "5570        NaN        NaN  \n",
       "5571        NaN        NaN  \n",
       "\n",
       "[5572 rows x 5 columns]"
      ]
     },
     "execution_count": 30,
     "metadata": {},
     "output_type": "execute_result"
    }
   ],
   "source": [
    "df_spam"
   ]
  },
  {
   "cell_type": "code",
   "execution_count": 23,
   "id": "14e665c6",
   "metadata": {},
   "outputs": [
    {
     "data": {
      "text/plain": [
       "v1               0\n",
       "v2               0\n",
       "Unnamed: 2    5522\n",
       "Unnamed: 3    5560\n",
       "Unnamed: 4    5566\n",
       "dtype: int64"
      ]
     },
     "execution_count": 23,
     "metadata": {},
     "output_type": "execute_result"
    }
   ],
   "source": [
    "df_spam.isna().sum()"
   ]
  },
  {
   "cell_type": "code",
   "execution_count": 31,
   "id": "5f187c5e",
   "metadata": {},
   "outputs": [
    {
     "data": {
      "text/html": [
       "<div>\n",
       "<style scoped>\n",
       "    .dataframe tbody tr th:only-of-type {\n",
       "        vertical-align: middle;\n",
       "    }\n",
       "\n",
       "    .dataframe tbody tr th {\n",
       "        vertical-align: top;\n",
       "    }\n",
       "\n",
       "    .dataframe thead th {\n",
       "        text-align: right;\n",
       "    }\n",
       "</style>\n",
       "<table border=\"1\" class=\"dataframe\">\n",
       "  <thead>\n",
       "    <tr style=\"text-align: right;\">\n",
       "      <th></th>\n",
       "      <th>v1</th>\n",
       "      <th>v2</th>\n",
       "    </tr>\n",
       "  </thead>\n",
       "  <tbody>\n",
       "    <tr>\n",
       "      <th>0</th>\n",
       "      <td>ham</td>\n",
       "      <td>Go until jurong point, crazy.. Available only ...</td>\n",
       "    </tr>\n",
       "    <tr>\n",
       "      <th>1</th>\n",
       "      <td>ham</td>\n",
       "      <td>Ok lar... Joking wif u oni...</td>\n",
       "    </tr>\n",
       "    <tr>\n",
       "      <th>2</th>\n",
       "      <td>spam</td>\n",
       "      <td>Free entry in 2 a wkly comp to win FA Cup fina...</td>\n",
       "    </tr>\n",
       "    <tr>\n",
       "      <th>3</th>\n",
       "      <td>ham</td>\n",
       "      <td>U dun say so early hor... U c already then say...</td>\n",
       "    </tr>\n",
       "    <tr>\n",
       "      <th>4</th>\n",
       "      <td>ham</td>\n",
       "      <td>Nah I don't think he goes to usf, he lives aro...</td>\n",
       "    </tr>\n",
       "    <tr>\n",
       "      <th>...</th>\n",
       "      <td>...</td>\n",
       "      <td>...</td>\n",
       "    </tr>\n",
       "    <tr>\n",
       "      <th>5567</th>\n",
       "      <td>spam</td>\n",
       "      <td>This is the 2nd time we have tried 2 contact u...</td>\n",
       "    </tr>\n",
       "    <tr>\n",
       "      <th>5568</th>\n",
       "      <td>ham</td>\n",
       "      <td>Will ? b going to esplanade fr home?</td>\n",
       "    </tr>\n",
       "    <tr>\n",
       "      <th>5569</th>\n",
       "      <td>ham</td>\n",
       "      <td>Pity, * was in mood for that. So...any other s...</td>\n",
       "    </tr>\n",
       "    <tr>\n",
       "      <th>5570</th>\n",
       "      <td>ham</td>\n",
       "      <td>The guy did some bitching but I acted like i'd...</td>\n",
       "    </tr>\n",
       "    <tr>\n",
       "      <th>5571</th>\n",
       "      <td>ham</td>\n",
       "      <td>Rofl. Its true to its name</td>\n",
       "    </tr>\n",
       "  </tbody>\n",
       "</table>\n",
       "<p>5572 rows × 2 columns</p>\n",
       "</div>"
      ],
      "text/plain": [
       "        v1                                                 v2\n",
       "0      ham  Go until jurong point, crazy.. Available only ...\n",
       "1      ham                      Ok lar... Joking wif u oni...\n",
       "2     spam  Free entry in 2 a wkly comp to win FA Cup fina...\n",
       "3      ham  U dun say so early hor... U c already then say...\n",
       "4      ham  Nah I don't think he goes to usf, he lives aro...\n",
       "...    ...                                                ...\n",
       "5567  spam  This is the 2nd time we have tried 2 contact u...\n",
       "5568   ham               Will ? b going to esplanade fr home?\n",
       "5569   ham  Pity, * was in mood for that. So...any other s...\n",
       "5570   ham  The guy did some bitching but I acted like i'd...\n",
       "5571   ham                         Rofl. Its true to its name\n",
       "\n",
       "[5572 rows x 2 columns]"
      ]
     },
     "execution_count": 31,
     "metadata": {},
     "output_type": "execute_result"
    }
   ],
   "source": [
    "df_spam=df_spam.loc[:, [\"v1\", 'v2']]\n",
    "df_spam"
   ]
  },
  {
   "cell_type": "code",
   "execution_count": 27,
   "id": "87c76226",
   "metadata": {},
   "outputs": [
    {
     "data": {
      "text/plain": [
       "array(['ham', 'spam'], dtype=object)"
      ]
     },
     "execution_count": 27,
     "metadata": {},
     "output_type": "execute_result"
    }
   ],
   "source": [
    "df_spam['v1'].unique()"
   ]
  },
  {
   "cell_type": "code",
   "execution_count": 32,
   "id": "a995f4b2",
   "metadata": {},
   "outputs": [
    {
     "data": {
      "text/html": [
       "<div>\n",
       "<style scoped>\n",
       "    .dataframe tbody tr th:only-of-type {\n",
       "        vertical-align: middle;\n",
       "    }\n",
       "\n",
       "    .dataframe tbody tr th {\n",
       "        vertical-align: top;\n",
       "    }\n",
       "\n",
       "    .dataframe thead th {\n",
       "        text-align: right;\n",
       "    }\n",
       "</style>\n",
       "<table border=\"1\" class=\"dataframe\">\n",
       "  <thead>\n",
       "    <tr style=\"text-align: right;\">\n",
       "      <th></th>\n",
       "      <th>v1</th>\n",
       "      <th>v2</th>\n",
       "      <th>label</th>\n",
       "    </tr>\n",
       "  </thead>\n",
       "  <tbody>\n",
       "    <tr>\n",
       "      <th>0</th>\n",
       "      <td>ham</td>\n",
       "      <td>Go until jurong point, crazy.. Available only ...</td>\n",
       "      <td>0</td>\n",
       "    </tr>\n",
       "    <tr>\n",
       "      <th>1</th>\n",
       "      <td>ham</td>\n",
       "      <td>Ok lar... Joking wif u oni...</td>\n",
       "      <td>0</td>\n",
       "    </tr>\n",
       "    <tr>\n",
       "      <th>2</th>\n",
       "      <td>spam</td>\n",
       "      <td>Free entry in 2 a wkly comp to win FA Cup fina...</td>\n",
       "      <td>1</td>\n",
       "    </tr>\n",
       "    <tr>\n",
       "      <th>3</th>\n",
       "      <td>ham</td>\n",
       "      <td>U dun say so early hor... U c already then say...</td>\n",
       "      <td>0</td>\n",
       "    </tr>\n",
       "    <tr>\n",
       "      <th>4</th>\n",
       "      <td>ham</td>\n",
       "      <td>Nah I don't think he goes to usf, he lives aro...</td>\n",
       "      <td>0</td>\n",
       "    </tr>\n",
       "    <tr>\n",
       "      <th>...</th>\n",
       "      <td>...</td>\n",
       "      <td>...</td>\n",
       "      <td>...</td>\n",
       "    </tr>\n",
       "    <tr>\n",
       "      <th>5567</th>\n",
       "      <td>spam</td>\n",
       "      <td>This is the 2nd time we have tried 2 contact u...</td>\n",
       "      <td>1</td>\n",
       "    </tr>\n",
       "    <tr>\n",
       "      <th>5568</th>\n",
       "      <td>ham</td>\n",
       "      <td>Will ? b going to esplanade fr home?</td>\n",
       "      <td>0</td>\n",
       "    </tr>\n",
       "    <tr>\n",
       "      <th>5569</th>\n",
       "      <td>ham</td>\n",
       "      <td>Pity, * was in mood for that. So...any other s...</td>\n",
       "      <td>0</td>\n",
       "    </tr>\n",
       "    <tr>\n",
       "      <th>5570</th>\n",
       "      <td>ham</td>\n",
       "      <td>The guy did some bitching but I acted like i'd...</td>\n",
       "      <td>0</td>\n",
       "    </tr>\n",
       "    <tr>\n",
       "      <th>5571</th>\n",
       "      <td>ham</td>\n",
       "      <td>Rofl. Its true to its name</td>\n",
       "      <td>0</td>\n",
       "    </tr>\n",
       "  </tbody>\n",
       "</table>\n",
       "<p>5572 rows × 3 columns</p>\n",
       "</div>"
      ],
      "text/plain": [
       "        v1                                                 v2  label\n",
       "0      ham  Go until jurong point, crazy.. Available only ...      0\n",
       "1      ham                      Ok lar... Joking wif u oni...      0\n",
       "2     spam  Free entry in 2 a wkly comp to win FA Cup fina...      1\n",
       "3      ham  U dun say so early hor... U c already then say...      0\n",
       "4      ham  Nah I don't think he goes to usf, he lives aro...      0\n",
       "...    ...                                                ...    ...\n",
       "5567  spam  This is the 2nd time we have tried 2 contact u...      1\n",
       "5568   ham               Will ? b going to esplanade fr home?      0\n",
       "5569   ham  Pity, * was in mood for that. So...any other s...      0\n",
       "5570   ham  The guy did some bitching but I acted like i'd...      0\n",
       "5571   ham                         Rofl. Its true to its name      0\n",
       "\n",
       "[5572 rows x 3 columns]"
      ]
     },
     "execution_count": 32,
     "metadata": {},
     "output_type": "execute_result"
    }
   ],
   "source": [
    "df_spam['label'] = np.where(df_spam['v1']=='spam', 1, 0)\n",
    "df_spam"
   ]
  },
  {
   "cell_type": "code",
   "execution_count": 33,
   "id": "3678014a",
   "metadata": {},
   "outputs": [],
   "source": [
    "df_X = df_spam['v2']\n",
    "df_Y = df_spam['label']"
   ]
  },
  {
   "cell_type": "code",
   "execution_count": 34,
   "id": "6b379da7",
   "metadata": {},
   "outputs": [
    {
     "name": "stdout",
     "output_type": "stream",
     "text": [
      "(3900,) (1672,) (3900,) (1672,)\n"
     ]
    }
   ],
   "source": [
    "X_train, X_test, y_train, y_test = train_test_split(df_X, df_Y, stratify=df_Y, train_size=0.7, random_state=1)\n",
    "print(X_train.shape, X_test.shape, y_train.shape, y_test.shape)"
   ]
  },
  {
   "cell_type": "code",
   "execution_count": 35,
   "id": "7d6248a5",
   "metadata": {},
   "outputs": [
    {
     "data": {
      "text/plain": [
       "(3900, 7175)"
      ]
     },
     "execution_count": 35,
     "metadata": {},
     "output_type": "execute_result"
    }
   ],
   "source": [
    "from sklearn.feature_extraction.text import CountVectorizer\n",
    "cv =CountVectorizer(binary=True)\n",
    "X_traincv = cv.fit_transform(X_train)\n",
    "X_traincv.shape"
   ]
  },
  {
   "cell_type": "code",
   "execution_count": 37,
   "id": "da655e46",
   "metadata": {},
   "outputs": [
    {
     "data": {
      "text/plain": [
       "array([[0, 0, 0, ..., 0, 0, 0],\n",
       "       [0, 0, 0, ..., 0, 0, 0],\n",
       "       [0, 0, 0, ..., 0, 0, 0],\n",
       "       ...,\n",
       "       [0, 0, 0, ..., 0, 0, 0],\n",
       "       [0, 0, 0, ..., 0, 0, 0],\n",
       "       [0, 0, 0, ..., 0, 0, 0]], dtype=int64)"
      ]
     },
     "execution_count": 37,
     "metadata": {},
     "output_type": "execute_result"
    }
   ],
   "source": [
    "enc_input = X_traincv.toarray()\n",
    "enc_input"
   ]
  },
  {
   "cell_type": "code",
   "execution_count": 38,
   "id": "6285b5cd",
   "metadata": {},
   "outputs": [
    {
     "name": "stdout",
     "output_type": "stream",
     "text": [
      "[array(['couple', 'down', 'give', 'me', 'minutes', 'my', 'sure', 'to',\n",
      "       'track', 'wallet', 'yeah'], dtype='<U34')]\n"
     ]
    }
   ],
   "source": [
    "print(cv.inverse_transform(enc_input[[0]]))"
   ]
  },
  {
   "cell_type": "code",
   "execution_count": 39,
   "id": "b2fa6dd9",
   "metadata": {},
   "outputs": [
    {
     "name": "stdout",
     "output_type": "stream",
     "text": [
      "['at', 'ate', 'athletic', 'athome', 'atlanta', 'atlast', 'atm', 'attach', 'attached', 'attack']"
     ]
    },
    {
     "name": "stderr",
     "output_type": "stream",
     "text": [
      "C:\\Users\\djimm\\anaconda3\\lib\\site-packages\\sklearn\\utils\\deprecation.py:87: FutureWarning: Function get_feature_names is deprecated; get_feature_names is deprecated in 1.0 and will be removed in 1.2. Please use get_feature_names_out instead.\n",
      "  warnings.warn(msg, category=FutureWarning)\n"
     ]
    }
   ],
   "source": [
    "print(cv.get_feature_names()[1000:1010], end='')"
   ]
  },
  {
   "cell_type": "code",
   "execution_count": 40,
   "id": "da3ebc17",
   "metadata": {},
   "outputs": [
    {
     "name": "stdout",
     "output_type": "stream",
     "text": [
      "['00', '000', '0089', '01223585236', '01223585334', '0125698789', '02', '0207', '02085076972', '021', '03', '04', '0430', '05', '050703', '0578', '06', '07046744435', '07090298926', '07099833605', '07123456789', '0721072', '07732584351', '07734396839', '07742676969', '07753741225', '0776xxxxxxx', '07781482378', '07786200117', '077xxx', '07808247860', '07821230901', '07880867867', '07946746291', '07973788240', '07xxxxxxxxx', '08', '0800', '08000407165', '08000776320', '08000839402', '08000930705', '08000938767', '08001950382', '08002888812', '08002986906', '08006344447', '0808', '08081263000', '08081560665', '0825', '083', '08448714184', '0845', '08452810073', '08452810075over18', '0870', '08700435505150p', '08700469649', '08700621170150p', '08701213186', '08701237397', '08701417012', '08701417012150p', '087016248', '08701752560', '087018728737', '0870241182716', '08702840625', '08704439680', '08704439680ts', '08706091795', '0870737910216yrs', '08707500020', '08707509020', '0870753331018', '08707808226', '08708034412', '08709222922', '08709501522', '0871', '087104711148', '08712101358', '08712103738', '0871212025016', '08712300220', '08712317606', '08712400200', '08712400602450p', '08712402050', '08712402779', '08712402902', '08712402972', '08712404000', '08712405020', '08712405022', '08712460324', '08712466669', '0871277810710p', '0871277810810', '087147123779am', '08714712412', '08714714011', '08715203028', '08715203649', '08715203652', '08715203656', '08715203677', '08715203685', '08715203694', '08715205273', '08715705022', '0871750', '08717507382', '08717509990', '08717890890鶯1', '08717895698', '08717898035', '08718711108', '08718720201', '08718723815', '08718725756', '08718726270', '087187262701', '08718726970', '08718726978', '087187272008', '08718727868', '08718727870', '08718727870150ppm', '08718730555', '08718730666', '08718738001', '08718738002', '08719180248', '08719181259', '08719181503', '08719181513', '08719899229', '09', '09050000332', '09050000460', '09050000555', '09050000878', '09050000928', '09050001295', '09050001808', '09050002311', '09050005321', '09050090044', '09050280520', '09053750005', '09056242159', '09057039994', '09058091854', '09058091870', '09058094454', '09058094455', '09058094507', '09058094565', '09058094583', '09058094599', '09058095107', '09058095201', '09058097189', '09058097218', '09058098002', '09061104276', '09061209465', '09061213237', '09061221061', '09061221066', '09061701461', '09061701851', '09061701939', '09061702893', '09061743386', '09061743806', '09061743810', '09061743811', '09061744553', '09061749602', '09061790121', '09061790126', '09063442151', '09063458130', '09064011000', '09064012160', '09064017295', '09064017305', '09064019014', '09065069120', '09065069154', '09065171142', '09065174042', '09065394514', '09065394973', '09065989180', '09065989182', '09066350750', '09066358152', '09066361921', '09066362206', '09066362220', '09066364311', '09066364349', '09066368327', '09066368470', '09066368753', '09066380611', '09066382422', '09066612661', '09066649731from', '09071512432', '09071512433', '09071517866', '09077818151', '09090204448', '09090900040', '09094100151', '09094646631', '09094646899', '09096102316', '09099725823', '09099726395', '09099726481', '09099726553', '09111030116', '09111032124', '09701213186', '10', '100', '1000', '1000s', '100percent', '100txt', '1013', '1030', '10am', '10k', '10p', '10ppm', '10th', '11', '113', '1131', '114', '1172', '11mths', '11pm', '12', '121', '1225', '123', '125gift', '128', '12hours', '12hrs', '12mths', '13', '130', '1327', '139', '14', '140', '140ppm', '145', '14tcr', '14thmarch', '15', '150', '150p', '150p16', '150pm', '150ppermesssubscription', '150ppm', '150ppmpobox10183bhamb64xe', '150ppmsg', '151', '153', '16', '165', '177', '18', '180', '18p', '18yrs', '1956669', '1b6a5ecef91ff9', '1da', '1er', '1hr', '1im', '1mega', '1st', '1st4terms', '1stchoice', '1stone', '1win150ppmx3', '1winaweek', '1winawk', '1x150p', '1yf', '20', '200', '2000', '2003', '2004', '2005', '2006', '200p', '20p', '21', '21870000', '21st', '22', '220', '220cm2', '23f', '23g', '24', '24hrs', '24th', '25', '250', '255', '25p', '26', '27', '28', '2814032', '28days', '28th', '28thfeb', '29', '2b', '2bold', '2c', '2channel', '2day', '2end', '2go', '2gthr', '2hrs', '2kbsubject', '2lands', '2marrow', '2moro', '2morow', '2morro', '2morrow', '2morrowxxxx', '2mro', '2mrw', '2nd', '2nights', '2nite', '2optout', '2price', '2px', '2rcv', '2stop', '2stoptx', '2stoptxt', '2u', '2waxsto', '2wks', '2wu', '2years', '2yr', '30', '300', '3000', '300603', '300603t', '300p', '3030', '30ish', '30pm', '30pp', '30s', '30th', '31', '3100', '310303', '31p', '32', '32000', '326', '350', '3510i', '3650', '36504', '3680', '373', '37819', '382', '391784', '3aj', '3d', '3g', '3gbp', '3hrs', '3lions', '3lp', '3miles', '3mins', '3mobile', '3optical', '3pound', '3qxj9', '3rd', '3ss', '3uz', '3wks', '3x鶯150pw', '40', '400', '400thousad', '402', '4041', '40411', '40533', '40gb', '40mph', '420', '42049', '42478', '42810', '430', '434', '44', '440', '4403ldnw1a7rw18', '44345', '447797706009', '448712404000', '450p', '45239', '45pm', '4742', '47per', '48', '4882', '48922', '49', '49557', '4a', '4eva', '4few', '4get', '4got', '4goten', '4info', '4jx', '4msgs', '4mths', '4t', '4th', '4txt', '4u', '4utxt', '4ward', '4xx26', '4years', '50', '500', '5000', '505060', '50gbp', '50p', '50perweeksub', '50perwksub', '50pmmorefrommobile2bremoved', '50ppm', '515', '5226', '528', '530', '542', '545', '5digital', '5free', '5ish', '5k', '5min', '5p', '5pm', '5th', '5wb', '5we', '5wkg', '5years', '60', '600', '6089', '60p', '61', '61200', '61610', '62220cncl', '6230', '62468', '630', '63miles', '645', '65', '650', '66', '674', '67441233', '68866', '69669', '69696', '69698', '69855', '69866', '69888', '69969', '69988', '6days', '6hl', '6hrs', '6ish', '6missed', '6months', '6ph', '6pm', '6th', '6times', '6wu', '700', '7250', '7250i', '730', '74355', '750', '7548', '75max', '7634', '7684', '77', '7732584351', '786', '7am', '7cfca1a', '7ish', '7mp', '7oz', '7pm', '7th', '80', '800', '80062', '8007', '80082', '80086', '80155', '80160', '80182', '8027', '80488', '80608', '8077', '80878', '81010', '81151', '81303', '81618', '82050', '820554ad0a1705572711', '82242', '82277', '82468', '83021', '83049', '83110', '83118', '83222', '83332', '83338', '83355', '83370', '83383', '83435', '83600', '83738', '84', '84025', '84128', '84199', '84484', '850', '85023', '85069', '85222', '85233', '8552', '85555', '86021', '864233', '86688', '86888', '87021', '87066', '87077', '87121', '87131', '8714714', '872', '87239', '87575', '8800', '88039', '88066', '88088', '88222', '88600', '88800', '88877', '88888', '89034', '89080', '89105', '89545', '89555', '89693', '8am', '8ball', '8lb', '8p', '8th', '8wp', '900', '9061100010', '910', '9280114', '930', '9307622', '946', '95', '9755', '97n7qp', '98321561', '99', '9996', '9ae', '9am', '9ja', '9pm', '9t', '9th', '9yt', '____', 'a21', 'aa', 'aah', 'aaniye', 'aaooooright', 'aathi', 'ab', 'abbey', 'abdomen', 'abeg', 'abel', 'aberdeen', 'abi', 'ability', 'abiola', 'abj', 'able', 'abnormally', 'about', 'above', 'absence', 'absolutely', 'absolutly', 'abt', 'abta', 'aburo', 'abuse', 'abusers', 'ac', 'acc', 'accent', 'accept', 'access', 'accessible', 'accident', 'accidentally', 'accommodation', 'accordin', 'accordingly', 'account', 'accounts', 'accumulation', 'achan', 'ache', 'acl03530150pm', 'aco', 'across', 'act', 'acted', 'actin', 'action', 'activ8', 'activate', 'active', 'activities', 'actor', 'actual', 'actually', 'ad', 'adam', 'add', 'addamsfa', 'added', 'addicted', 'addie', 'adding', 'address', 'adewale', 'adi', 'admin', 'administrator', 'admirer', 'admission', 'admit', 'adore', 'adoring', 'adress', 'ads', 'adsense', 'adult', 'adults', 'advance', 'adventure', 'advice', 'advise', 'advising', 'advisors', 'aeronautics', 'aeroplane', 'afew', 'affair', 'affairs', 'affection', 'affections', 'affidavit', 'afford', 'afghanistan', 'afraid', 'africa', 'aft', 'after', 'afternon', 'afternoon', 'afternoons', 'afterwards', 'aftr', 'ag', 'again', 'against', 'agalla', 'age', 'age16', 'age23', 'agents', 'ages', 'aging', 'ago', 'agree', 'ah', 'aha', 'ahead', 'ahhh', 'ahhhh', 'ahmad', 'ahold', 'aid', 'aids', 'aig', 'aight', 'ain', 'aint', 'air', 'air1', 'airport', 'airtel', 'aiya', 'aiyah', 'aiyar', 'aiyo', 'ajith', 'ak', 'aka', 'akon', 'al', 'alaikkum', 'alaipayuthe', 'albi', 'album', 'alcohol', 'aldrine', 'alert', 'alertfrom', 'alex', 'alfie', 'algebra', 'ali', 'alian', 'alibi', 'alive', 'all', 'allah', 'allo', 'allow', 'allowed', 'almost', 'alone', 'along', 'already', 'alright', 'alrite', 'also', 'alter', 'alternative', 'although', 'alto18', 'always', 'alwys', 'am', 'amanda', 'amazing', 'ambitious', 'ambrith', 'american', 'ami', 'amigos', 'amla', 'amma', 'ammo', 'among', 'amongst', 'amore', 'amount', 'amp', 'amrita', 'ams', 'amt', 'amused', 'amy', 'an', 'ana', 'anal', 'analysis', 'and', 'anderson', 'andre', 'andrews', 'andros', 'angels', 'angry', 'animal', 'animation', 'anjie', 'anna', 'annie', 'anniversary', 'annoncement', 'announced', 'announcement', 'annoying', 'anonymous', 'anot', 'another', 'ans', 'ansr', 'answer', 'answered', 'answerin', 'answering', 'answers', 'antelope', 'antha', 'anthony', 'anti', 'antibiotic', 'any', 'anybody', 'anyhow', 'anymore', 'anyone', 'anyones', 'anyplaces', 'anythiing', 'anythin', 'anything', 'anythingtomorrow', 'anytime', 'anyway', 'anyways', 'anywhere', 'aom', 'apart', 'apartment', 'aphex陽s', 'apnt', 'apo', 'apologetic', 'apologise', 'apologize', 'apology', 'app', 'apparently', 'appeal', 'appear', 'applausestore', 'applebees', 'apples', 'application', 'apply', 'applyed', 'applying', 'appointment', 'appreciate', 'appreciated', 'approaches', 'approaching', 'approve', 'approved', 'approx', 'apps', 'appt', 'april', 'aproach', 'apt', 'aptitude', 'aquarius', 'ar', 'arab', 'arabian', 'arcade', 'ard', 'are', 'area', 'aren', 'arent', 'arestaurant', 'aretaking', 'areyouunique', 'argh', 'argue', 'arguing', 'argument', 'arguments', 'arise', 'arises', 'arithmetic', 'armand', 'arms', 'arng', 'around', 'aroundn', 'arr', 'arrange', 'arrested', 'arrival', 'arrive', 'arrived', 'arry', 'arsenal', 'art', 'arul', 'arun', 'as', 'asap', 'asda', 'ashes', 'ashley', 'ashwini', 'asia', 'asian', 'asjesus', 'ask', 'askd', 'asked', 'askin', 'asking', 'asks', 'aslamalaikkum', 'asleep', 'asp', 'ass', 'assessment', 'asssssholeeee', 'assume', 'asthma', 'astne', 'asus', 'at', 'ate', 'athletic', 'athome', 'atlanta', 'atlast', 'atm', 'attach', 'attached', 'attack', 'attempt', 'attend', 'attending', 'attention', 'attraction', 'attracts', 'auction', 'audition', 'audrey', 'audrie', 'august', 'aunt', 'auntie', 'aunties', 'aunts', 'aunty', 'australia', 'authorise', 'auto', 'autocorrect', 'av', 'ava', 'availa', 'available', 'avalarr', 'avatar', 'avble', 'ave', 'avenge', 'avent', 'avenue', 'avin', 'avo', 'avoid', 'avoiding', 'avoids', 'await', 'awaiting', 'awake', 'award', 'awarded', 'away', 'awesome', 'aww', 'ax', 'axel', 'axis', 'ay', 'ayn', 'a鶯1', 'b4', 'b4280703', 'ba', 'ba128nnfwfly150ppm', 'baaaaabe', 'babe', 'babes', 'babies', 'baby', 'babygoodbye', 'babyjontet', 'babysit', 'babysitting', 'bac', 'back', 'backdoor', 'bad', 'badass', 'badly', 'bag', 'bags', 'bahamas', 'baig', 'bailiff', 'bajarangabali', 'bak', 'bakra', 'balance', 'ball', 'balls', 'bam', 'bandages', 'bang', 'bank', 'banks', 'banned', 'banneduk', 'banter', 'bar', 'barbie', 'barcelona', 'bare', 'barely', 'bari', 'barolla', 'barred', 'barrel', 'barring', 'barry', 'bars', 'base', 'bash', 'basic', 'basically', 'basket', 'bat', 'batch', 'bath', 'bathe', 'bathing', 'bathroom', 'batsman', 'batt', 'battery', 'battle', 'bawling', 'bay', 'bb', 'bbd', 'bbq', 'bcaz', 'bck', 'bcm', 'bcm1896wc1n3xx', 'bcm4284', 'bcmsfwc1n3xx', 'bcoz', 'bcums', 'bcz', 'bday', 'be', 'beads', 'bear', 'bears', 'beatings', 'beauties', 'beautiful', 'bec', 'because', 'becausethey', 'become', 'becomes', 'becoz', 'becz', 'bed', 'bedrm', 'bedroom', 'beeen', 'been', 'beendropping', 'beer', 'beerage', 'beers', 'befor', 'before', 'beforehand', 'beg', 'beggar', 'begin', 'behalf', 'behave', 'behind', 'bein', 'being', 'believe', 'belive', 'bell', 'belligerent', 'belly', 'belongs', 'belovd', 'beloved', 'ben', 'bend', 'beneath', 'benefits', 'bennys', 'best', 'best1', 'bet', 'beta', 'beth', 'betta', 'better', 'between', 'beverage', 'bevies', 'beware', 'beyond', 'bf', 'bffs', 'bfore', 'bhaji', 'bhaskar', 'bhayandar', 'bian', 'bid', 'bids', 'big', 'bigger', 'biggest', 'bike', 'bill', 'billed', 'billing', 'billion', 'bills', 'billy', 'bilo', 'bimbo', 'bin', 'biola', 'bird', 'birds', 'birla', 'biro', 'birth', 'birthdate', 'birthday', 'bishan', 'bit', 'bitch', 'bitching', 'bite', 'bits', 'biz', 'black', 'blackberry', 'blah', 'blame', 'blank', 'blanket', 'blankets', 'blastin', 'bleak', 'bleh', 'bless', 'blessed', 'blessing', 'blessings', 'blind', 'blocked', 'blog', 'bloke', 'blonde', 'bloo', 'blood', 'bloody', 'bloomberg', 'blow', 'blowing', 'blown', 'blu', 'blue', 'bluetooth', 'bluff', 'blur', 'bluray', 'bmw', 'boat', 'boatin', 'bob', 'body', 'bognor', 'bold', 'bold2', 'bomb', 'bone', 'bong', 'bonus', 'boo', 'boobs', 'book', 'booked', 'bookedthe', 'booking', 'boooo', 'boost', 'booty', 'bootydelious', 'borderline', 'bored', 'borin', 'boring', 'born', 'borrow', 'boss', 'boston', 'bot', 'both', 'bother', 'bothering', 'bottle', 'bottom', 'bought', 'bought讓braindance讓a', 'bout', 'bowa', 'bowl', 'box', 'box139', 'box177', 'box245c2150pm', 'box326', 'box385', 'box39822', 'box403', 'box420', 'box434sk38wp150ppm18', 'box61', 'box95qu', 'box97n7qp', 'boy', 'boye', 'boyfriend', 'boys', 'boytoy', 'bpo', 'brah', 'brain', 'brainless', 'brains', 'brainy', 'brand', 'brandy', 'bras', 'brats', 'braved', 'bray', 'brb', 'brdget', 'bread', 'break', 'breath', 'breathe', 'breathe1', 'breather', 'breathing', 'breeze', 'bridge', 'bridgwater', 'brief', 'bright', 'brighten', 'brilliant', 'brilliantly', 'brin', 'bring', 'bringing', 'brings', 'bristol', 'british', 'britney', 'bro', 'broad', 'broke', 'broken', 'brolly', 'bros', 'broth', 'brothas', 'brother', 'brothers', 'brother됛', 'brought', 'brown', 'brownie', 'browser', 'browsin', 'bruv', 'bslvyl', 'bsn', 'bstfrnd', 'bt', 'btw', 'btwn', 'bubbletext', 'bucks', 'bud', 'budget', 'buen', 'buff', 'buffet', 'buffy', 'bugis', 'build', 'building', 'built', 'bull', 'bullshit', 'bundle', 'bunkers', 'buns', 'burden', 'burger', 'burgundy', 'burial', 'burn', 'burning', 'burns', 'bus', 'bus8', 'buses', 'busetop', 'business', 'busy', 'but', 'butt', 'butting', 'buy', 'buyer', 'buyers', 'buying', 'buzy', 'buzz', 'buzzzz', 'bw', 'bx420', 'bx526', 'by', 'bye', 'b陽day', 'b됛', 'cab', 'cabin', 'cable', 'cafe', 'cage', 'cake', 'cakes', 'cal', 'calculated', 'calculation', 'cali', 'calicut', 'california', 'call', 'call09050000327', 'call2optout', 'callback', 'callcost', 'callcost150ppmmobilesvary', 'calld', 'called', 'caller', 'callers', 'callertune', 'callfreefone', 'callin', 'calling', 'callon', 'calls', 'calls1', 'calls鶯1', 'calm', 'cam', 'camcorder', 'came', 'camera', 'campus', 'camry', 'can', 'canada', 'canal', 'canary', 'cancel', 'cancelled', 'cancer', 'canlove', 'cann', 'canname', 'cannot', 'cant', 'cantdo', 'can陽t', 'can됛', 'capacity', 'capital', 'cappuccino', 'caps', 'captaining', 'car', 'card', 'cardiff', 'cardin', 'cards', 'care', 'careabout', 'cared', 'career', 'careers', 'careful', 'carefully', 'careless', 'cares', 'caring', 'carlie', 'carlin', 'carlos', 'carly', 'carolina', 'caroline', 'carry', 'carryin', 'cars', 'cartoon', 'case', 'cash', 'cashbin', 'cashed', 'cashto', 'casing', 'cast', 'casting', 'castor', 'casualty', 'cat', 'catch', 'catches', 'catching', 'categories', 'caught', 'cause', 'caveboy', 'cbe', 'cc', 'cc100p', 'ccna', 'cd', 'cdgt', 'cds', 'cedar', 'ceiling', 'celeb', 'celebrate', 'celebrated', 'celebration', 'celebrations', 'cell', 'census', 'center', 'centre', 'century', 'cer', 'certainly', 'certificate', 'cha', 'chachi', 'chad', 'chain', 'challenge', 'challenging', 'champneys', 'chance', 'chances', 'change', 'changed', 'changes', 'changing', 'channel', 'chaps', 'chapter', 'character', 'charge', 'charged', 'charges', 'charity', 'charles', 'charlie', 'charming', 'chart', 'chase', 'chasing', 'chastity', 'chat', 'chat80155', 'chatlines', 'chatter', 'chatting', 'cheap', 'cheaper', 'cheat', 'chechi', 'check', 'checkboxes', 'checked', 'checking', 'checkmate', 'cheek', 'cheer', 'cheers', 'cheery', 'cheese', 'cheesy', 'chef', 'chennai', 'cherish', 'cherthala', 'chess', 'chest', 'chex', 'chez', 'chg', 'chgs', 'chic', 'chick', 'chicken', 'chickened', 'chief', 'chik', 'chikku', 'child', 'childish', 'children', 'childrens', 'chile', 'chill', 'chillin', 'china', 'chinchillas', 'chinese', 'chinky', 'chiong', 'chip', 'chk', 'chloe', 'chocolate', 'choice', 'choose', 'chop', 'chores', 'chosen', 'christ', 'christians', 'christmas', 'chuck', 'chuckin', 'church', 'ciao', 'cine', 'cinema', 'citizen', 'city', 'citylink', 'cl', 'claim', 'claimcode', 'claims', 'claire', 'clarification', 'clark', 'clash', 'class', 'classes', 'classic', 'classmates', 'cld', 'clean', 'cleaning', 'clear', 'cleared', 'clearer', 'clearing', 'clearly', 'clever', 'click', 'cliff', 'clock', 'clocks', 'clos1', 'close', 'closed', 'closer', 'closes', 'closingdate04', 'cloth', 'clothes', 'cloud', 'clover', 'club', 'clubmoby', 'clubsaisai', 'clubzed', 'cm', 'cm2', 'cme', 'cmon', 'cn', 'cnn', 'co', 'coach', 'coast', 'coat', 'coccooning', 'cochin', 'cock', 'cocksuckers', 'code', 'coffee', 'coherently', 'coimbatore', 'coins', 'colany', 'cold', 'colin', 'collapsed', 'colleagues', 'collect', 'collected', 'collecting', 'collection', 'college', 'color', 'colour', 'colours', 'com', 'com1win150ppmx3age16', 'comb', 'combine', 'come', 'comedy', 'comes', 'comfey', 'comfort', 'comin', 'coming', 'comingdown', 'command', 'commercial', 'commit', 'common', 'community', 'como', 'comp', 'companion', 'company', 'compare', 'compass', 'compensation', 'competition', 'complaint', 'complementary', 'complete', 'completed', 'completely', 'completing', 'complexities', 'complimentary', 'comprehensive', 'compromised', 'compulsory', 'computational', 'computer', 'computerless', 'computers', 'comuk', 'conacted', 'concentrate', 'concentrating', 'concentration', 'concern', 'concerned', 'concert', 'condition', 'conditions', 'conducts', 'conected', 'conference', 'confidence', 'confirm', 'confirmd', 'confirmed', 'conform', 'confused', 'confuses', 'congrats', 'congratulation', 'congratulations', 'connect', 'connection', 'connections', 'cons', 'consent', 'consider', 'considering', 'console', 'constant', 'constantly', 'contact', 'contacted', 'contacts', 'content', 'contented', 'contention', 'contents', 'continued', 'contract', 'contribute', 'control', 'convenience', 'conversations', 'converted', 'converter', 'convey', 'conveying', 'convince', 'convinced', 'convincing', 'cook', 'cooking', 'cool', 'cooped', 'coping', 'cops', 'copy', 'corect', 'cornwall', 'corrct', 'correct', 'correction', 'corrupt', 'cos', 'cosign', 'cost', 'costa', 'costing', 'costs', 'costume', 'costumes', 'cost鶯1', 'cost鶯3', 'couch', 'coughing', 'could', 'coulda', 'couldn', 'couldn陽t', 'count', 'countin', 'countinlots', 'country', 'counts', 'coupla', 'couple', 'courage', 'courageous', 'course', 'court', 'courtroom', 'cousin', 'cover', 'coveragd', 'covers', 'coz', 'cozy', 'cr', 'cr01327bt', 'cr9', 'crab', 'crack', 'craigslist', 'cramps', 'crash', 'crashed', 'crave', 'craving', 'craziest', 'crazy', 'crazyin', 'cream', 'created', 'creative', 'creativity', 'credit', 'credited', 'credits', 'creep', 'creepy', 'cres', 'cricketer', 'cried', 'crisis', 'crore', 'cross', 'crossing', 'crowd', 'croydon', 'crucial', 'crucify', 'cruise', 'crushes', 'cry', 'crying', 'cs', 'csbcm4235wc1n3xx', 'csc', 'csh11', 'cst', 'ctagg', 'ctargg', 'cttargg', 'ctter', 'cttergg', 'cuck', 'cud', 'cuddle', 'cuddled', 'cuddling', 'culdnt', 'cum', 'cumin', 'cumming', 'cup', 'curious', 'current', 'currently', 'curry', 'curtsey', 'cusoon', 'cust', 'custcare', 'custom', 'customer', 'customercare', 'customers', 'customersqueries', 'cut', 'cute', 'cutefrnd', 'cutest', 'cutie', 'cutter', 'cutting', 'cuz', 'cw25wx', 'cya', 'cyclists', 'd3wv', 'da', 'daaaaa', 'dabooks', 'dad', 'daddy', 'dai', 'daily', 'dammit', 'damn', 'dan', 'dance', 'dancin', 'dancing', 'dane', 'dao', 'dare', 'dark', 'darker', 'darkest', 'darkness', 'darlin', 'darling', 'darlings', 'darren', 'dartboard', 'dasara', 'dat', 'data', 'date', 'datebox1282essexcm61xn', 'dates', 'dating', 'dave', 'day', 'days', 'daywith', 'db', 'dbuk', 'dd', 'de', 'dead', 'deal', 'dealer', 'dealing', 'deals', 'dear', 'dear1', 'dearer', 'dearly', 'death', 'debating', 'dec', 'decades', 'december', 'decide', 'decided', 'deciding', 'decimal', 'decision', 'decisions', 'decking', 'declare', 'decorating', 'dedicate', 'dedicated', 'deduct', 'deep', 'deepak', 'deepest', 'deer', 'deeraj', 'def', 'defeat', 'defer', 'deficient', 'definite', 'definitely', 'degree', 'degrees', 'dehydrated', 'dehydration', 'del', 'delay', 'delete', 'deleted', 'delhi', 'delicious', 'deliver', 'delivered', 'deliveredtomorrow', 'delivery', 'deltomorrow', 'dem', 'demand', 'den', 'dena', 'denis', 'dent', 'dental', 'dentist', 'dentists', 'deny', 'denying', 'department', 'dependable', 'depends', 'deposit', 'deposited', 'depressed', 'depression', 'dept', 'der', 'derek', 'derp', 'describe', 'description', 'desert', 'designation', 'desires', 'desk', 'desparate', 'desperate', 'despite', 'dessert', 'destination', 'destiny', 'detail', 'detailed', 'details', 'determine', 'determined', 'deus', 'develop', 'developer', 'device', 'devouring', 'dey', 'dha', 'dhanush', 'dhina', 'dhoni', 'dhorte', 'di', 'dial', 'dialling', 'dialogue', 'diamond', 'diamonds', 'diapers', 'dice', 'dick', 'dict', 'dictionary', 'did', 'diddy', 'didn', 'didnt', 'didn陽t', 'didn됛', 'die', 'died', 'diesel', 'diet', 'dieting', 'diff', 'difference', 'different', 'difficult', 'difficulties', 'dificult', 'digi', 'digital', 'digits', 'dignity', 'dileep', 'dime', 'din', 'dine', 'ding', 'dining', 'dinner', 'dino', 'dint', 'dippeditinadew', 'direct', 'directly', 'director', 'directors', 'dirt', 'dirty', 'dis', 'disagreeable', 'disappeared', 'disappointment', 'disaster', 'disasters', 'disastrous', 'disc', 'disclose', 'disconnect', 'disconnected', 'discount', 'discreet', 'discuss', 'discussed', 'disk', 'dislikes', 'dismissial', 'display', 'distance', 'distract', 'disturb', 'disturbing', 'ditto', 'division', 'divorce', 'diwali', 'dizzamn', 'dl', 'dled', 'dload', 'dnt', 'do', 'dob', 'dobby', 'doc', 'docks', 'docs', 'doctor', 'doctors', 'documents', 'dodda', 'does', 'doesn', 'doesnt', 'doesn됛', 'dog', 'dogbreath', 'doggin', 'dogging', 'doggy', 'dogs', 'dogwood', 'doin', 'doinat', 'doing', 'doit', 'dokey', 'doll', 'dollar', 'dollars', 'dolls', 'dom', 'domain', 'don', 'donate', 'done', 'donno', 'dont', 'dontcha', 'dontmatter', 'don陽t', 'don됛', 'dooms', 'door', 'doors', 'dorm', 'dorothy', 'dose', 'dosomething', 'dot', 'double', 'doubles', 'dough', 'down', 'download', 'downloaded', 'downloads', 'downon', 'downstem', 'dozens', 'dps', 'dr', 'dracula', 'dramastorm', 'drastic', 'draw', 'draws', 'dream', 'dreams', 'dress', 'dressed', 'dresser', 'drink', 'drinkin', 'drinking', 'drinks', 'drive', 'driver', 'drivin', 'driving', 'drms', 'drop', 'dropped', 'drops', 'drove', 'drpd', 'drug', 'drugdealer', 'drugs', 'drunk', 'drunken', 'drvgsto', 'dry', 'dryer', 'dsn', 'dt', 'dual', 'dub', 'dubsack', 'ducking', 'dude', 'due', 'duffer', 'dumb', 'dun', 'dungerees', 'dunno', 'duo', 'durban', 'durham', 'during', 'dusk', 'duvet', 'dvd', 'dwn', 'dying', 'dysentry', 'e14', 'each', 'eachother', 'ear', 'earlier', 'earliest', 'early', 'earn', 'earning', 'earth', 'easier', 'easiest', 'easily', 'east', 'eastenders', 'easter', 'easy', 'eat', 'eaten', 'eatin', 'eating', 'ebay', 'ec2a', 'echo', 'ecstasy', 'ed', 'edhae', 'edison', 'edu', 'educational', 'edukkukayee', 'edwards', 'ee', 'eek', 'eerie', 'eerulli', 'effect', 'effects', 'efficient', 'efreefone', 'eg', 'egbon', 'egg', 'eggs', 'eh', 'eh74rr', 'eight', 'eighth', 'eire', 'either', 'el', 'ela', 'elaborate', 'elama', 'elaya', 'eldest', 'electricity', 'elephant', 'ell', 'elliot', 'else', 'elsewhere', 'em', 'email', 'emailed', 'embarassed', 'embarrassed', 'embassy', 'emc1', 'emergency', 'emerging', 'emily', 'emotion', 'empty', 'en', 'enc', 'end', 'ended', 'ending', 'endowed', 'ends', 'enemies', 'enemy', 'energy', 'eng', 'engaged', 'engalnd', 'engin', 'england', 'english', 'enjoy', 'enjoyed', 'enjoyin', 'enketa', 'enna', 'ennal', 'enough', 'enter', 'entered', 'entertain', 'entey', 'entire', 'entirely', 'entitled', 'entrepreneurs', 'entry', 'entry41', 'enufcredeit', 'enuff', 'envelope', 'environment', 'envy', 'epi', 'epsilon', 'equally', 'er', 'ere', 'ericson', 'ericsson', 'erm', 'erode', 'error', 'ertini', 'eruku', 'erupt', 'erutupalam', 'esaplanade', 'escape', 'ese', 'eshxxxxxxxxxxx', 'especially', 'esplanade', 'essay', 'essential', 'establish', 'eta', 'etc', 'ethnicity', 'etlp', 'euro', 'euro2004', 'eurodisinc', 'europe', 'evaluation', 'eve', 'eveb', 'even', 'evening', 'evenings', 'event', 'ever', 'every', 'every1', 'everybody', 'everyboy', 'everyday', 'everyone', 'everyones', 'everyso', 'everythin', 'everything', 'everytime', 'everywhere', 'eviction', 'evn', 'evng', 'evo', 'evone', 'evr', 'evrey', 'evry', 'evry1', 'evrydy', 'ew', 'ex', 'exact', 'exactly', 'exam', 'exams', 'excellent', 'except', 'exchanged', 'excited', 'exciting', 'excuse', 'excuses', 'exe', 'executive', 'exhaust', 'exhausted', 'exhibition', 'exist', 'exmpel', 'exorcism', 'exorcist', 'expect', 'expecting', 'expects', 'expensive', 'experience', 'experiencehttp', 'experiment', 'expert', 'expired', 'expires', 'explain', 'explicitly', 'explosive', 'exposed', 'exposes', 'express', 'expression', 'expressoffer', 'ext', 'exterminator', 'extra', 'extract', 'extreme', 'ey', 'eye', 'eyed', 'eyes', 'e鶯nd', 'f4q', 'fa', 'fab', 'face', 'facebook', 'fact', 'factory', 'facts', 'faded', 'faggot', 'faglord', 'failed', 'failing', 'failure', 'fair', 'faith', 'fake', 'falconerf', 'fall', 'fallen', 'falling', 'falls', 'famamus', 'familiar', 'family', 'fan', 'fancied', 'fancies', 'fancy', 'fantasies', 'fantastic', 'fantasy', 'far', 'farm', 'farrell', 'farting', 'fast', 'faster', 'fastest', 'fat', 'fated', 'father', 'fathima', 'fatty', 'fault', 'fav', 'fave', 'favor', 'favorite', 'favour', 'favourite', 'fb', 'fear', 'feathery', 'feb', 'february', 'fed', 'fedex', 'feel', 'feelin', 'feeling', 'feels', 'fees', 'feet', 'fell', 'fellow', 'felt', 'female', 'feng', 'festival', 'fetch', 'fetching', 'fever', 'few', 'fffff', 'ffffffffff', 'ffffuuuuuuu', 'fgkslpo', 'fgkslpopw', 'field', 'fieldof', 'fiend', 'fifa', 'fifteen', 'fifty', 'fight', 'fighting', 'fightng', 'fights', 'figure', 'figures', 'figuring', 'file', 'files', 'fill', 'filled', 'filling', 'fills', 'film', 'films', 'filth', 'filthy', 'filthyguys', 'final', 'finalise', 'finally', 'finance', 'find', 'finding', 'fine', 'finest', 'fingers', 'finish', 'finishd', 'finished', 'finishes', 'finishing', 'fink', 'finn', 'fire', 'fired', 'firefox', 'fireplace', 'firmware', 'first', 'fish', 'fishrman', 'fit', 'five', 'fix', 'fixed', 'fixedline', 'fixes', 'flag', 'flaked', 'flaky', 'flame', 'flash', 'flat', 'flatter', 'flea', 'flew', 'flies', 'flight', 'flights', 'flip', 'flippin', 'flirt', 'flirting', 'floating', 'floor', 'flower', 'flowers', 'flowing', 'fluids', 'flung', 'flurries', 'fly', 'fml', 'fne', 'fo', 'fold', 'foley', 'folks', 'follow', 'followed', 'followin', 'following', 'fondly', 'fone', 'foned', 'fones', 'food', 'fool', 'fooled', 'fools', 'foot', 'football', 'footprints', 'for', 'force', 'forced', 'foregate', 'foreign', 'forever', 'forevr', 'forget', 'forgets', 'forgiven', 'forgiveness', 'forgot', 'forgotten', 'forgt', 'form', 'formally', 'format', 'formatting', 'forms', 'forth', 'fortune', 'forum', 'forums', 'forward', 'forwarded', 'forwarding', 'for鶯38', 'found', 'four', 'fox', 'fr', 'fraction', 'fran', 'frank', 'frankie', 'franxx', 'frauds', 'freak', 'freaked', 'freaky', 'free', 'free2day', 'freedom', 'freefone', 'freek', 'freely', 'freemsg', 'freephone', 'freezing', 'fren', 'french', 'frens', 'frequently', 'fresh', 'fret', 'fri', 'friday', 'fridays', 'fridge', 'friend', 'friends', 'friendsare', 'friendship', 'friendships', 'fringe', 'frm', 'frnd', 'frnds', 'frndship', 'frndshp', 'frndsship', 'frndz', 'frog', 'from', 'fromm', 'front', 'frosty', 'frwd', 'frying', 'fuck', 'fucked', 'fuckin', 'fucking', 'fucks', 'fudge', 'fuelled', 'fujitsu', 'ful', 'fulfil', 'full', 'fullonsms', 'fumbling', 'fun', 'function', 'fund', 'funeral', 'funk', 'funky', 'funny', 'funs', 'furniture', 'further', 'fusion', 'future', 'fuuuuck', 'fwiw', 'fyi', 'g2', 'g696ga', 'gail', 'gailxx', 'gain', 'gal', 'galileo', 'gals', 'gam', 'gamb', 'game', 'games', 'gamestar', 'gandhipuram', 'ganesh', 'gang', 'gap', 'gaps', 'garage', 'garbage', 'gardener', 'garments', 'gary', 'gas', 'gastroenteritis', 'gate', 'gauge', 'gautham', 'gauti', 'gave', 'gay', 'gayle', 'gays', 'gaytextbuddy', 'gbp', 'gbp1', 'gbp4', 'gbp5', 'gd', 'ge', 'gee', 'geeee', 'geeeee', 'gei', 'gek1510', 'gender', 'generally', 'genes', 'genius', 'gent', 'gentle', 'gentleman', 'gently', 'genuine', 'genus', 'geoenvironmental', 'george', 'gep', 'get', 'get4an18th', 'getiing', 'gets', 'getstop', 'gettin', 'getting', 'getzed', 'gf', 'ghost', 'gibbs', 'gift', 'gifted', 'gifts', 'giggle', 'gimme', 'gimmi', 'gin', 'girl', 'girlfrnd', 'girlie', 'girls', 'gist', 'giv', 'give', 'given', 'gives', 'giving', 'glad', 'glass', 'global', 'glory', 'gloucesterroad', 'gm', 'gn', 'gnun', 'go', 'go2sri', 'goal', 'goals', 'god', 'gods', 'goes', 'goggles', 'goigng', 'goin', 'goin2bed', 'going', 'gokila', 'gold', 'golddigger', 'golf', 'gona', 'gone', 'gong', 'gonna', 'good', 'goodevening', 'goodfriend', 'goodmorning', 'goodnight', 'goodnite', 'goodnoon', 'goodo', 'goodtime', 'google', 'gopalettan', 'gorgeous', 'gosh', 'goss', 'gossip', 'got', 'gota', 'gotany', 'gotbabes', 'goto', 'gotta', 'gotten', 'gotto', 'goverment', 'govt', 'gower', 'gprs', 'gpu', 'gr8', 'gr8fun', 'gr8prizes', 'grab', 'grace', 'grahmbell', 'gram', 'gran', 'grand', 'grandfather', 'grandmas', 'granite', 'granted', 'gravel', 'gravity', 'grazed', 'gre', 'great', 'greatest', 'greatly', 'greatness', 'greece', 'green', 'greet', 'greeting', 'greetings', 'grief', 'grinder', 'grins', 'grinule', 'grl', 'grocers', 'ground', 'group', 'grow', 'growing', 'grr', 'grumpy', 'gt', 'guaranteed', 'gud', 'gudnite', 'gudnyt', 'guess', 'guesses', 'guessin', 'guessing', 'guide', 'guides', 'guild', 'guilty', 'gut', 'guy', 'guys', 'gv', 'gving', 'gym', 'gymnastics', 'gynae', 'ha', 'habit', 'hack', 'had', 'hadn', 'haf', 'haha', 'hahaha', 'hai', 'hail', 'hair', 'hairdressers', 'haiyoh', 'haiz', 'half', 'hall', 'halla', 'hallaq', 'halloween', 'ham', 'hamster', 'hand', 'handed', 'handing', 'handle', 'hands', 'handset', 'handsome', 'handsomes', 'hangin', 'hanging', 'hanks', 'hannaford', 'hanuman', 'hanumanji', 'happen', 'happend', 'happened', 'happenin', 'happening', 'happens', 'happily', 'happiness', 'happy', 'hard', 'hardcore', 'hardly', 'hari', 'harlem', 'harry', 'has', 'hasn', 'hate', 'hates', 'haunt', 'hav', 'hava', 'have', 'haven', 'havent', 'haventcn', 'haven陽t', 'havin', 'having', 'havnt', 'hdd', 'he', 'head', 'headache', 'headin', 'heading', 'heads', 'headstart', 'head됛_', 'heal', 'healer', 'hear', 'heard', 'hearin', 'hearing', 'heart', 'hearted', 'hearts', 'heat', 'heater', 'heaven', 'heavily', 'heavy', 'hectic', 'hee', 'heehee', 'height', 'held', 'helen', 'helens', 'hell', 'hella', 'hello', 'hellogorgeous', 'helloooo', 'help', 'help08700621170150p', 'help08718728876', 'helpful', 'helpline', 'helps', 'heltini', 'hen', 'hence', 'hep', 'her', 'here', 'hero', 'heron', 'herself', 'hesitant', 'hesitation', 'hex', 'hey', 'hf8', 'hg', 'hhahhaahahah', 'hi', 'hidden', 'hide', 'hiding', 'high', 'highest', 'hilarious', 'hill', 'hills', 'hillsborough', 'him', 'himself', 'himso', 'hint', 'hip', 'hire', 'his', 'history', 'hit', 'hitman', 'hiya', 'hl', 'hlp', 'hm', 'hme', 'hmm', 'hmmm', 'hmmmm', 'hmmross', 'hmv', 'hmv1', 'ho', 'hogli', 'hogolo', 'hol', 'holby', 'hold', 'holder', 'holding', 'hole', 'holiday', 'holla', 'hollalater', 'hols', 'holy', 'home', 'homeowners', 'hon', 'honest', 'honesty', 'honey', 'honeybee', 'honi', 'hont', 'hoo', 'hooch', 'hoody', 'hook', 'hop', 'hope', 'hoped', 'hopefully', 'hopes', 'hopeu', 'hoping', 'hor', 'horniest', 'horny', 'horrible', 'hos', 'hospital', 'hospitals', 'hostel', 'hostile', 'hot', 'hotel', 'hotels', 'hotmail', 'hottest', 'hour', 'hourish', 'hours', 'house', 'houseful', 'housewives', 'how', 'howard', 'however', 'hows', 'howz', 'hp', 'hp20', 'hppnss', 'hr', 'hrishi', 'hrs', 'hsbc', 'html', 'http', 'huai', 'hubby', 'hudgi', 'hug', 'huge', 'hugging', 'hugs', 'huh', 'hum', 'humans', 'hun', 'hundred', 'hundreds', 'hungover', 'hungry', 'hunks', 'hunny', 'hunt', 'hunting', 'hurricanes', 'hurried', 'hurry', 'hurt', 'hurting', 'hurts', 'husband', 'hustle', 'hut', 'hv', 'hv9d', 'hw', 'hyde', 'hype', 'hypotheticalhuagauahahuagahyuhagga', 'iam', 'ias', 'ibh', 'ibhltd', 'ibiza', 'ibm', 'ibn', 'ibuprofens', 'iccha', 'ice', 'icicibank', 'icky', 'icmb3cktz8r7', 'icon', 'id', 'idea', 'ideal', 'ideas', 'identifier', 'idew', 'idiot', 'idk', 'idu', 'ie', 'if', 'ifink', 'ig11', 'ignorant', 'ignore', 'ijust', 'ikea', 'il', 'ileave', 'ill', 'illness', 'ilol', 'im', 'image', 'imagination', 'imagine', 'imat', 'imf', 'img', 'imin', 'imma', 'immed', 'immediately', 'immunisation', 'imp', 'impatient', 'impede', 'implications', 'important', 'importantly', 'imposed', 'impossible', 'imposter', 'impressed', 'impression', 'impressively', 'improve', 'improved', 'imprtant', 'in', 'in2', 'inc', 'inch', 'inches', 'incident', 'inclu', 'include', 'includes', 'including', 'inclusive', 'inconsiderate', 'inconvenience', 'inconvenient', 'increase', 'incredible', 'increments', 'inde', 'independence', 'index', 'india', 'indian', 'indians', 'indicate', 'individual', 'indyarocks', 'inever', 'infact', 'infections', 'infernal', 'influx', 'info', 'inform', 'information', 'informed', 'infra', 'infront', 'ing', 'ingredients', 'initiate', 'ink', 'inlude', 'inmind', 'inner', 'innings', 'innocent', 'innu', 'inpersonation', 'inr', 'insha', 'inshah', 'inside', 'inspection', 'installing', 'instant', 'instantly', 'instead', 'instituitions', 'instructions', 'insurance', 'intelligent', 'intend', 'intention', 'intentions', 'interest', 'interested', 'interesting', 'interflora', 'internal', 'internet', 'interview', 'interviews', 'intha', 'into', 'intrepid', 'intro', 'intrude', 'invaders', 'invest', 'invite', 'invited', 'inviting', 'invnted', 'invoices', 'involve', 'iouri', 'ip', 'ip4', 'ipad', 'ipaditan', 'ipads', 'iphone', 'ipod', 'iq', 'iraq', 'irene', 'iriver', 'iron', 'ironing', 'irritating', 'irritation', 'irulinae', 'is', 'isaiah', 'iscoming', 'ish', 'island', 'islands', 'isn', 'isnt', 'isn陽t', 'issue', 'issues', 'it', 'italian', 'itcould', 'items', 'iter', 'itna', 'itried2tell', 'its', 'itself', 'itwhichturnedinto', 'itxt', 'itz', 'it陽s', 'it됛', 'ivatte', 'ive', 'iwana', 'iwas', 'iyo', 'iz', 'izzit', 'i陽d', 'i陽llspeak', 'i陽m', 'i陽ve', 'i됛', 'j89', 'jabo', 'jack', 'jackpot', 'jackson', 'jada', 'jaklin', 'jam', 'james', 'jamster', 'jan', 'janarige', 'jane', 'january', 'jap', 'japanese', 'jas', 'jason', 'java', 'jay', 'jaya', 'jaykwon', 'jaz', 'jazz', 'jb', 'jd', 'je', 'jealous', 'jeans', 'jeetey', 'jeevithathile', 'jen', 'jenne', 'jenny', 'jeri', 'jerk', 'jess', 'jesus', 'jet', 'jetton', 'jewelry', 'jez', 'jia', 'jiayin', 'jide', 'jiu', 'jo', 'job', 'jobs', 'jocks', 'jod', 'jog', 'jogging', 'john', 'join', 'joined', 'joining', 'joke', 'jokes', 'jokin', 'joking', 'jolly', 'jolt', 'jones', 'jordan', 'jorge', 'jos', 'journey', 'joy', 'joys', 'jp', 'jsco', 'jst', 'jstfrnd', 'jsut', 'juan', 'judgemental', 'juicy', 'jul', 'jules', 'juliana', 'julianaland', 'june', 'jurong', 'jus', 'just', 'justbeen', 'justify', 'juswoke', 'juz', 'k52', 'k61', 'k718', 'kaaj', 'kadeem', 'kaiez', 'kaila', 'kaitlyn', 'kalaachutaarama', 'kalainar', 'kalisidare', 'kallis', 'kalstiya', 'kama', 'kanagu', 'kanji', 'kano', 'karaoke', 'karo', 'kate', 'katexxx', 'kath', 'kavalan', 'kay', 'kaypoh', 'kb', 'ke', 'keen', 'keep', 'keeping', 'keeps', 'kegger', 'keluviri', 'ken', 'kent', 'kept', 'kerala', 'keralacircle', 'keris', 'kettoda', 'key', 'keypad', 'keys', 'khelate', 'ki', 'kicchu', 'kick', 'kickoff', 'kicks', 'kid', 'kidding', 'kids', 'kidz', 'kiefer', 'kill', 'killed', 'killing', 'kills', 'kilos', 'kind', 'kinda', 'kindly', 'king', 'kingdom', 'kintu', 'kiosk', 'kip', 'kisi', 'kiss', 'kisses', 'kissing', 'kit', 'kittum', 'kitty', 'kl341', 'knackered', 'knee', 'knees', 'knew', 'knickers', 'knocking', 'know', 'knowing', 'known', 'knows', 'knw', 'ko', 'kochi', 'kodstini', 'kodthini', 'kolathupalayam', 'konw', 'korche', 'korean', 'korte', 'kothi', 'kr', 'ktv', 'kuch', 'kudi', 'kusruthi', 'kvb', 'kz', 'l8er', 'l8r', 'l8rs', 'l8tr', 'la', 'la3', 'la32wu', 'lab', 'labor', 'lac', 'lacking', 'lacs', 'laden', 'ladies', 'lady', 'lag', 'lage', 'lager', 'laid', 'lakhs', 'lambda', 'lamp', 'lancaster', 'land', 'landing', 'landline', 'landlineonly', 'landlines', 'landmark', 'lands', 'lane', 'langport', 'lanka', 'lap', 'lapdancer', 'laptop', 'lar', 'lara', 'laready', 'largest', 'lark', 'last', 'lasting', 'late', 'later', 'latest', 'latr', 'laugh', 'laughed', 'laughing', 'laughs', 'laundry', 'lavender', 'law', 'lay', 'lays', 'lazy', 'lccltd', 'ld', 'ldew', 'ldn', 'ldnw15h', 'le', 'lead', 'leadership', 'leading', 'leads', 'league', 'leanne', 'learn', 'learned', 'least', 'least5times', 'leave', 'leaves', 'leaving', 'lect', 'lecture', 'lecturer', 'left', 'leftovers', 'leg', 'legal', 'legitimat', 'legs', 'leh', 'lei', 'lemme', 'lengths', 'lennon', 'leona', 'leonardo', 'les', 'less', 'lesser', 'lesson', 'lessons', 'let', 'lets', 'letter', 'letters', 'lf56', 'li', 'liao', 'lib', 'library', 'lick', 'licks', 'lido', 'lie', 'life', 'lifebook', 'lifeis', 'lifetime', 'lifpartnr', 'lift', 'lifted', 'lifting', 'light', 'lighters', 'lightly', 'lik', 'like', 'liked', 'likely', 'likes', 'likeyour', 'liking', 'lil', 'lily', 'lim', 'limited', 'limiting', 'limping', 'lindsay', 'line', 'linear', 'lined', 'linerental', 'lines', 'lingo', 'link', 'lion', 'lip', 'lipo', 'liquor', 'list', 'listed', 'listen', 'listened2the', 'listener', 'listening', 'lists', 'lit', 'literally', 'little', 'live', 'lived', 'liverpool', 'lives', 'living', 'lk', 'lkpobox177hp51fl', 'll', 'lmao', 'lnly', 'loads', 'loan', 'loans', 'lobby', 'local', 'location', 'locations', 'lock', 'locks', 'lodge', 'log', 'logging', 'login', 'logo', 'logoff', 'logos', 'loko', 'lol', 'lolnice', 'lololo', 'london', 'loneliness', 'lonely', 'long', 'longer', 'lonlines', 'loo', 'look', 'looked', 'lookin', 'looking', 'looks', 'loooooool', 'loose', 'loosing', 'loosu', 'lor', 'lord', 'lose', 'loses', 'losing', 'loss', 'lost', 'lot', 'lotr', 'lots', 'lotsly', 'lotz', 'lou', 'loud', 'lounge', 'lousy', 'lov', 'lovable', 'love', 'loved', 'lovely', 'loveme', 'lover', 'loverboy', 'lovers', 'loves', 'loving', 'lovingly', 'low', 'lower', 'loxahatchee', 'loyal', 'loyalty', 'ls1', 'ls15hb', 'ls278bb', 'lst', 'lt', 'ltd', 'ltdhelpdesk', 'lttrs', 'lubly', 'luck', 'lucky', 'lucozade', 'lucy', 'luks', 'lul', 'lunch', 'lunchtime', 'lunsford', 'lush', 'luton', 'luv', 'luvd', 'luvs', 'lux', 'luxury', 'lv', 'lvblefrnd', 'lyf', 'lyfu', 'lying', 'lyk', 'lyricalladie', 'lyrics', 'm100', 'm221bp', 'm227xy', 'm26', 'm263uz', 'm39m51', 'm6', 'm60', 'm8', 'm8s', 'm95', 'ma', 'maangalyam', 'maat', 'mac', 'macedonia', 'macha', 'machan', 'macho', 'mack', 'macs', 'mad', 'mad1', 'mad2', 'madam', 'made', 'madoke', 'madstini', 'madurai', 'mag', 'maga', 'magazine', 'magic', 'magical', 'mah', 'mahal', 'mahaveer', 'mahfuuz', 'maid', 'mail', 'mailbox', 'mailed', 'mails', 'main', 'maintain', 'maintaining', 'major', 'make', 'makes', 'makiing', 'makin', 'making', 'malaria', 'malarky', 'male', 'mall', 'mallika', 'man', 'manage', 'managed', 'management', 'manchester', 'manda', 'mandan', 'mandara', 'maneesha', 'mango', 'maniac', 'manky', 'manual', 'many', 'map', 'mapquest', 'maps', 'maraikara', 'march', 'maretare', 'margaret', 'marine', 'mark', 'market', 'marking', 'marrge', 'marriage', 'married', 'marry', 'maruti', 'marvel', 'mas', 'masked', 'massive', 'masters', 'match', 'matches', 'mate', 'mates', 'math', 'mathews', 'maths', 'matra', 'matrix3', 'matter', 'matured', 'maturity', 'max', 'max10mins', 'max6', 'maximize', 'maximum', 'max鶯7', 'may', 'mayb', 'maybe', 'mb', 'mc', 'mca', 'mcat', 'mcfly', 'me', 'meal', 'mean', 'meaning', 'meaningful', 'means', 'meant', 'meanwhile', 'measure', 'meat', 'mecause', 'med', 'medical', 'medicine', 'meds', 'meet', 'meetin', 'meeting', 'meetins', 'meets', 'meg', 'mega', 'meh', 'meive', 'mel', 'melle', 'melnite', 'melody', 'melt', 'member', 'members', 'membership', 'memories', 'memory', 'men', 'mental', 'mention', 'mentioned', 'mentionned', 'mentor', 'menu', 'meow', 'merely', 'merry', 'mess', 'message', 'messaged', 'messages', 'messaging', 'messed', 'messenger', 'messy', 'met', 'method', 'mf', 'mfl', 'mi', 'mia', 'michael', 'mid', 'middle', 'midnight', 'mids', 'might', 'mila', 'mileage', 'miles', 'milk', 'millers', 'million', 'milta', 'min', 'mina', 'minapn', 'mind', 'minded', 'mindset', 'mine', 'minecraft', 'mini', 'minimum', 'minmobsmore', 'minmobsmorelkpobox177hp51fl', 'minmoremobsemspobox45po139wa', 'minnaminunginte', 'minor', 'mins', 'minus', 'minute', 'minutes', 'minuts', 'miracle', 'mirror', 'mis', 'misbehaved', 'miserable', 'misfits', 'mising', 'misplaced', 'miss', 'misscall', 'missed', 'missin', 'missing', 'missions', 'misss', 'missunderstding', 'mist', 'mistake', 'misundrstud', 'mite', 'mitsake', 'miwa', 'mix', 'ml', 'mm', 'mmm', 'mmmm', 'mmmmm', 'mmmmmm', 'mmmmmmm', 'mns', 'mnth', 'mnths', 'mo', 'moan', 'mob', 'mobcudb', 'mobile', 'mobiles', 'mobilesdirect', 'mobilesvary', 'mobileupd8', 'mobno', 'mobs', 'mobsi', 'mobstorequiz10ppm', 'moby', 'mobypobox734ls27yf', 'mode', 'model', 'modl', 'modules', 'mofo', 'moji', 'mojibiola', 'mokka', 'mom', 'moment', 'moms', 'mon', 'monday', 'money', 'monoc', 'monos', 'month', 'monthly', 'monthlysubscription', 'months', 'mood', 'moon', 'moral', 'more', 'morefrmmob', 'morn', 'mornin', 'morning', 'mornings', 'morphine', 'moseley', 'most', 'mostly', 'mother', 'motherfucker', 'motivate', 'motivating', 'motor', 'motorola', 'mountain', 'mountains', 'mouse', 'mouth', 'move', 'moved', 'moves', 'movie', 'movies', 'movietrivia', 'moving', 'mp3', 'mquiz', 'mr', 'mre', 'mrng', 'mrt', 'ms', 'msg', 'msg150p', 'msging', 'msgrcvd', 'msgrcvdhg', 'msgs', 'msn', 'mt', 'mtalk', 'mth', 'mths', 'mtmsg18', 'mtmsgrcvd18', 'mtnl', 'mu', 'muah', 'much', 'muchand', 'mudyadhu', 'mufti', 'muhommad', 'muht', 'multimedia', 'mum', 'mumbai', 'mumhas', 'mummy', 'mums', 'mumtaz', 'mundhe', 'munsters', 'murder', 'murdered', 'murderer', 'mus', 'mush', 'mushy', 'music', 'musicnews', 'must', 'musta', 'musthu', 'mutai', 'muz', 'mw', 'mwahs', 'my', 'mymoby', 'myparents', 'myself', 'mystery', 'n9dx', 'na', 'naal', 'nachos', 'nag', 'nagar', 'nah', 'nahi', 'nails', 'naked', 'nalla', 'nalli', 'name', 'name1', 'name2', 'named', 'names', 'nan', 'nange', 'nanny', 'nannys', 'nap', 'narcotics', 'nasdaq', 'naseeb', 'nasty', 'nat', 'nat27081980', 'natalie', 'natalie2k9', 'natalja', 'national', 'nattil', 'natural', 'nature', 'natwest', 'naughty', 'nauseous', 'nb', 'nd', 'ndship', 'ne', 'near', 'nearer', 'nearly', 'necessarily', 'necessary', 'neck', 'necklace', 'ned', 'need', 'needed', 'needing', 'needle', 'needs', 'neekunna', 'negative', 'neglect', 'neglet', 'neighbor', 'neighbors', 'neighbour', 'neither', 'neo69', 'nervous', 'neshanth', 'net', 'netcollex', 'nething', 'netun', 'netvision', 'network', 'networking', 'neva', 'never', 'nevering', 'new', 'neway', 'newest', 'newquay', 'news', 'next', 'nhs', 'ni8', 'nic', 'nice', 'nichols', 'nick', 'nickey', 'nig', 'nigeria', 'nigh', 'night', 'nightnight', 'nights', 'nigpun', 'nigro', 'nike', 'nikiyu4', 'nimya', 'ninish', 'nino', 'nit', 'nite', 'nitro', 'nitros', 'nitw', 'nmde', 'no', 'no1', 'nobbing', 'nobody', 'noe', 'noice', 'noise', 'nok', 'nokia', 'nokia6600', 'nokias', 'noline', 'non', 'noncomittal', 'none', 'nonetheless', 'noon', 'nooooooo', 'noooooooo', 'nope', 'nor', 'nora', 'norcorp', 'norm', 'norm150p', 'normal', 'normally', 'north', 'northampton', 'nos', 'nose', 'nosh', 'nosy', 'not', 'note', 'notes', 'nothin', 'nothing', 'notice', 'notifications', 'nottingham', 'noun', 'novelty', 'november', 'now', 'now1', 'nowadays', 'nri', 'nt', 'ntt', 'ntwk', 'nuclear', 'num', 'number', 'numbers', 'nursery', 'nurses', 'nurungu', 'nus', 'nusstu', 'nuther', 'nutter', 'nvm', 'nvq', 'nw', 'nxt', 'nyc', 'nydc', 'nyt', 'nz', 'n兼te', 'o2', 'o2fwd', 'obedient', 'obese', 'objection', 'oblivious', 'obviously', 'occasion', 'occupied', 'occupy', 'occur', 'ocean', 'oclock', 'october', 'odalebeku', 'odi', 'of', 'ofcourse', 'off', 'offense', 'offer', 'offers', 'office', 'officer', 'official', 'officially', 'ofice', 'ofstuff', 'often', 'of鶯2000', 'oga', 'ogunrinde', 'oh', 'oi', 'oil', 'oja', 'ok', 'okay', 'okday', 'okden', 'okey', 'okie', 'okies', 'okmail', 'ola', 'olage', 'olave', 'olayiwola', 'old', 'oli', 'ollu', 'olol', 'omg', 'omw', 'on', 'onam', 'once', 'ondu', 'one', 'ones', 'oni', 'onion', 'online', 'only', 'only1more', 'onlyfound', 'onto', 'onum', 'onwards', 'onwords', 'ooh', 'oooh', 'oooooh', 'oops', 'open', 'opened', 'opener', 'opening', 'operator', 'opinion', 'opinions', 'opponenter', 'opportunity', 'opposed', 'opposite', 'opps', 'opt', 'option', 'optout', 'or', 'or2optout', 'or2stoptxt', 'oral', 'orange', 'oranges', 'orc', 'orchard', 'order', 'ordered', 'oredi', 'oreo', 'oreos', 'organise', 'organizer', 'orh', 'orig', 'original', 'ors', 'ortxt', 'oru', 'os', 'oscar', 'oso', 'other', 'others', 'otherwise', 'othrs', 'othrwise', 'otside', 'ouch', 'our', 'ours', 'out', 'outage', 'outbid', 'outfor', 'outgoing', 'outl8r', 'outrageous', 'outreach', 'outs', 'outside', 'outsider', 'outstanding', 'outta', 'over', 'overa', 'overdid', 'overemphasise', 'overtime', 'ovr', 'ovulate', 'ovulation', 'ow', 'owe', 'owed', 'own', 'owned', 'owns', 'oxygen', 'oyea', 'oyster', 'oz', 'pa', 'paces', 'pack', 'package', 'packs', 'padhe', 'page', 'pages', 'pai', 'paid', 'pain', 'painful', 'paining', 'painting', 'pairs', 'pale', 'panalam', 'pandy', 'panic', 'panicks', 'panren', 'panther', 'panties', 'pap', 'papa', 'paper', 'papers', 'paperwork', 'paragon', 'paragraphs', 'paranoid', 'parantella', 'parchi', 'parco', 'parent', 'parents', 'paris', 'parish', 'park', 'parked', 'parkin', 'parking', 'part', 'participate', 'particular', 'parties', 'partner', 'partnership', 'parts', 'party', 'paru', 'pases', 'pass', 'passable', 'passed', 'passes', 'passion', 'passionate', 'password', 'passwords', 'past', 'pataistha', 'patent', 'path', 'pathaya', 'paths', 'patrick', 'pattern', 'patty', 'pause', 'pavanaputra', 'pax', 'pay', 'payasam', 'payback', 'payee', 'paying', 'payment', 'payments', 'payoh', 'paypal', 'pc', 'pc1323', 'pdate_now', 'peace', 'peaceful', 'peach', 'peak', 'pears', 'pee', 'pehle', 'pei', 'pen', 'pence', 'pendent', 'pending', 'penis', 'penny', 'people', 'peoples', 'per', 'percent', 'percentages', 'perf', 'perfect', 'perform', 'performance', 'performed', 'perfume', 'period', 'peripherals', 'permissions', 'perpetual', 'persian', 'persolvo', 'person', 'person2die', 'personal', 'personality', 'personally', 'persons', 'perspective', 'pert', 'perumbavoor', 'pesky', 'pest', 'pete', 'petey', 'petrol', 'pg', 'ph', 'pharmacy', 'phb1', 'phd', 'philosophical', 'philosophy', 'phne', 'phoenix', 'phone', 'phone750', 'phonebook', 'phoned', 'phones', 'phony', 'photo', 'photos', 'photoshop', 'php', 'phrase', 'phyhcmk', 'physics', 'piah', 'pic', 'pick', 'picked', 'picking', 'pickle', 'pics', 'picture', 'pictures', 'pie', 'piece', 'pieces', 'pierre', 'pig', 'piggy', 'pilates', 'pile', 'pillows', 'pimples', 'pin', 'pink', 'pints', 'pisces', 'pissed', 'pist', 'pity', 'pix', 'pixels', 'pizza', 'pl', 'place', 'placement', 'places', 'plaid', 'plan', 'plane', 'planet', 'planned', 'planning', 'plans', 'plate', 'platt', 'play', 'played', 'player', 'players', 'playin', 'playing', 'playng', 'plaza', 'pleasant', 'please', 'pleased', 'pleassssssseeeeee', 'pleasure', 'plenty', 'plm', 'ploughing', 'pls', 'plum', 'plumbers', 'plural', 'plus', 'plyr', 'plz', 'pm', 'po', 'pobox', 'pobox1', 'pobox114', 'pobox12n146tf15', 'pobox12n146tf150p', 'pobox334', 'pobox36504w45wq', 'pobox365o4w45wq', 'pobox45w2tg150p', 'pobox75ldns7', 'pobox84', 'poboxox36504w45wq', 'pocay', 'pocked', 'pocketbabe', 'pockets', 'pocy', 'pod', 'poem', 'poet', 'point', 'points', 'poker', 'poking', 'pole', 'police', 'politicians', 'polo', 'poly', 'polyc', 'polyh', 'polyph', 'polyphonic', 'polys', 'pongal', 'ponnungale', 'poo', 'pooja', 'pookie', 'poop', 'poor', 'poorly', 'poortiyagi', 'pop', 'popcorn', 'popped', 'popping', 'porn', 'port', 'portal', 'portege', 'pose', 'posh', 'posible', 'position', 'positions', 'positive', 'possession', 'possessive', 'possibility', 'possible', 'possibly', 'post', 'postal', 'postcard', 'postcode', 'posted', 'posting', 'postponed', 'posts', 'potato', 'potential', 'potter', 'pound', 'pounds', 'pouts', 'power', 'powerful', 'poyyarikatur', 'ppl', 'pple', 'ppm', 'ppt150x3', 'prabha', 'pract', 'practical', 'practice', 'practicing', 'practising', 'praises', 'prakasam', 'prakasamanu', 'prakesh', 'praps', 'prasad', 'prashanthettan', 'praveesh', 'pray', 'prayers', 'praying', 'prayrs', 'pre', 'predict', 'predicting', 'prediction', 'predictive', 'prefer', 'preferably', 'prem', 'premier', 'premium', 'prepaid', 'prepare', 'prepared', 'prescribed', 'prescripiton', 'prescription', 'presence', 'present', 'president', 'presnts', 'press', 'prestige', 'pretend', 'pretty', 'prevent', 'previews', 'previous', 'previously', 'prey', 'price', 'prices', 'pride', 'priest', 'prin', 'prince', 'princes', 'princess', 'print', 'printed', 'printing', 'prior', 'priscilla', 'privacy', 'private', 'prix', 'prize', 'prizes', 'prizeswith', 'pro', 'prob', 'probably', 'problem', 'problematic', 'problems', 'problum', 'probs', 'process', 'processed', 'prods', 'products', 'prof', 'professors', 'profile', 'profiles', 'profit', 'program', 'project', 'projects', 'prolly', 'prominent', 'promise', 'promised', 'promises', 'promo', 'promoting', 'promotion', 'prompts', 'prone', 'proof', 'proove', 'properly', 'property', 'propose', 'props', 'propsd', 'pros', 'prospects', 'protect', 'proverb', 'provided', 'provider', 'province', 'proze', 'prsn', 'ps', 'ps3', 'pshew', 'psp', 'psychiatrist', 'psychic', 'psychologist', 'pt2', 'ptbo', 'pub', 'public', 'publish', 'pubs', 'pudunga', 'pull', 'pulling', 'pulls', 'pump', 'punch', 'punishment', 'punj', 'puppy', 'pura', 'purchase', 'purchases', 'pure', 'purity', 'purple', 'purpose', 'purse', 'push', 'pushbutton', 'pushes', 'pussy', 'put', 'puts', 'putting', 'puzzles', 'px3748', 'p鶯3', 'qatar', 'qbank', 'qing', 'qjkgighjjgcbl', 'qlynnbv', 'quality', 'que', 'queen', 'queries', 'ques', 'question', 'questioned', 'questions', 'quick', 'quickly', 'quiet', 'quit', 'quite', 'quitting', 'quiz', 'quizzes', 'quote', 'quoting', 'r836', 'racing', 'radio', 'raed', 'rael', 'raiden', 'railway', 'rain', 'raining', 'raise', 'raised', 'raj', 'raji', 'rajini', 'rajitha', 'rajnikant', 'rakhesh', 'raksha', 'rally', 'ralphs', 'ramaduth', 'ramen', 'ran', 'random', 'randomlly', 'randomly', 'randy', 'rang', 'ranjith', 'ranju', 'rate', 'rates', 'rather', 'ratio', 'raviyog', 'rawring', 'rayman', 'rays', 'rcb', 'rcd', 'rcv', 'rcvd', 'rd', 'rdy', 're', 'reach', 'reache', 'reached', 'reaching', 'reacting', 'reaction', 'read', 'readers', 'reading', 'ready', 'real', 'real1', 'realised', 'reality', 'realize', 'realized', 'really', 'realy', 'reapply', 'reason', 'reasonable', 'reasons', 'reboot', 'rebooting', 'rebtel', 'rec', 'recd', 'receipt', 'receipts', 'receipts됛', 'receive', 'receivea', 'received', 'receiving', 'recent', 'recently', 'reception', 'recession', 'recharge', 'recharged', 'recieve', 'reckon', 'recognise', 'recognises', 'record', 'recorded', 'recorder', 'records', 'recovery', 'recpt', 'recreation', 'recycling', 'red', 'redeemable', 'redeemed', 'reduce', 'ref', 'reference', 'reffering', 'refilled', 'reflection', 'reformat', 'refunded', 'refused', 'reg', 'regard', 'regarding', 'regards', 'register', 'registered', 'regret', 'regular', 'rejected', 'related', 'relation', 'relationship', 'relatives', 'relax', 'relaxing', 'released', 'reliant', 'relieved', 'religiously', 'reltnship', 'rem', 'remain', 'remains', 'remb', 'remember', 'remembered', 'rememberi', 'remembr', 'remembrs', 'remind', 'reminder', 'reminding', 'reminds', 'removal', 'remove', 'removed', 'rencontre', 'renewal', 'renewed', 'renewing', 'rent', 'rental', 'rentl', 'rents', 'repair', 'repairs', 'repeat', 'repeating', 'replace', 'replacement', 'replied', 'replies', 'reply', 'replying', 'report', 'representative', 'republic', 'request', 'requests', 'required', 'research', 'resent', 'reservations', 'reserved', 'reserves', 'reset', 'resizing', 'resolution', 'resolved', 'resort', 'respect', 'respectful', 'responce', 'respond', 'responding', 'response', 'responsibilities', 'responsibility', 'rest', 'restaurant', 'restock', 'restocked', 'restrict', 'resubbing', 'result', 'results', 'resume', 'resuming', 'retired', 'retrieve', 'return', 'returned', 'returning', 'returns', 'reunion', 'reveal', 'revealed', 'revealing', 'review', 'revision', 'reward', 'rewarding', 'rg21', 'rgent', 'rhode', 'rhythm', 'rich', 'riddance', 'ridden', 'ride', 'right', 'rightio', 'rightly', 'rights', 'ring', 'ringing', 'rings', 'ringtone', 'ringtoneking', 'ringtones', 'ringtone攘', 'rinu', 'ripped', 'risk', 'risks', 'rite', 'ritten', 'river', 'road', 'roads', 'roast', 'rob', 'robinson', 'robs', 'rock', 'rocking', 'rocks', 'rodds1', 'rodger', 'rofl', 'roger', 'role', 'roles', 'roller', 'romantic', 'romcapspam', 'ron', 'room', 'roommate', 'roommates', 'rooms', 'rose', 'roses', 'rough', 'round', 'rounder', 'rounds', 'route', 'row', 'royal', 'rply', 'rr', 'rs', 'rstm', 'rt', 'rtm', 'rto', 'ru', 'rub', 'rubber', 'rude', 'rudi', 'rugby', 'ruin', 'ruining', 'rule', 'rules', 'rum', 'rumbling', 'rummer', 'rumour', 'run', 'running', 'runs', 'rush', 'rv', 'rvx', 'ryan', 'ryder', 's3xy', 's89', 'sac', 'sachin', 'sack', 'sacked', 'sacrifice', 'sad', 'sae', 'saeed', 'safe', 'safely', 'saibaba', 'said', 'sake', 'salad', 'salam', 'salary', 'sale', 'sales', 'salesman', 'salt', 'sam', 'sambar', 'same', 'samus', 'sandiago', 'sang', 'sankatmochan', 'sankranti', 'santa', 'santacalling', 'sao', 'sar', 'sara', 'sarasota', 'sarcasm', 'saristar', 'sariyag', 'sashimi', 'sat', 'satanic', 'sathy', 'sathya', 'satisfied', 'satisfy', 'satsgettin', 'saturday', 'saucy', 'savamob', 'save', 'saved', 'saves', 'savings', 'saw', 'say', 'saying', 'says', 'sc', 'scallies', 'scammers', 'scarcasim', 'scared', 'scary', 'scenario', 'scenery', 'sch', 'schedule', 'school', 'schools', 'science', 'scold', 'scorable', 'score', 'scores', 'scoring', 'scotch', 'scotland', 'scouse', 'scraped', 'scrappy', 'scratching', 'scream', 'screamed', 'screaming', 'screen', 'screwd', 'scrounge', 'scrumptious', 'sculpture', 'sdryb8i', 'se', 'sea', 'search', 'searching', 'season', 'seat', 'sec', 'second', 'secondary', 'seconds', 'secret', 'secretly', 'section', 'sections', 'secure', 'sed', 'see', 'seeing', 'seekers', 'seeking', 'seem', 'seemed', 'seems', 'seen', 'sef', 'seh', 'sehwag', 'seing', 'select', 'selected', 'selection', 'self', 'selfindependence', 'selflessness', 'sell', 'selling', 'sells', 'sem', 'semester', 'semi', 'semiobscure', 'sen', 'send', 'sender', 'sending', 'sends', 'senor', 'sense', 'senses', 'sensible', 'sensitive', 'sent', 'sentence', 'senthil', 'seperated', 'sept', 'september', 'series', 'serious', 'seriously', 'served', 'server', 'service', 'services', 'serving', 'servs', 'set', 'setting', 'settings', 'settle', 'settled', 'settling', 'seven', 'seventeen', 'several', 'sex', 'sexy', 'sez', 'sf', 'sg', 'sh', 'sha', 'shade', 'shagged', 'shah', 'shahjahan', 'shakara', 'shake', 'shaking', 'shall', 'shame', 'shampain', 'shangela', 'shanghai', 'shanil', 'shaping', 'share', 'shared', 'sharing', 'shattered', 'shaved', 'shb', 'shd', 'she', 'sheet', 'sheets', 'sheffield', 'shelf', 'sherawat', 'shes', 'shesil', 'shhhhh', 'shifad', 'shijas', 'shijutta', 'shinco', 'shindig', 'shining', 'shiny', 'ship', 'shipped', 'shipping', 'shirt', 'shirts', 'shit', 'shite', 'shitload', 'shivratri', 'shld', 'shock', 'shocking', 'shoes', 'shoot', 'shop', 'shoppin', 'shopping', 'shoranur', 'shore', 'short', 'shortage', 'shortcode', 'shortly', 'shoul', 'should', 'shoulders', 'shouldn', 'shouted', 'shouting', 'shove', 'show', 'shower', 'showered', 'showing', 'showrooms', 'shows', 'shracomorsglsuplt', 'shrek', 'shrub', 'shsex', 'shu', 'shuhui', 'shun', 'shut', 'shy', 'si', 'sian', 'sib', 'sic', 'sick', 'sickness', 'side', 'sigh', 'sighs', 'sight', 'sign', 'significance', 'significant', 'signin', 'signing', 'siguviri', 'silence', 'silent', 'silently', 'silver', 'sim', 'simonwatson5120', 'simple', 'simpler', 'simply', 'since', 'sinco', 'sindu', 'sing', 'singapore', 'singing', 'single', 'singles', 'sink', 'sipix', 'sips', 'sir', 'sirji', 'sis', 'sister', 'sit', 'site', 'sitll', 'sitter', 'sittin', 'sitting', 'situation', 'situations', 'siva', 'six', 'size', 'sized', 'sk3', 'sk38xh', 'skateboarding', 'skilgme', 'skillgame', 'skills', 'skinny', 'skins', 'skint', 'skip', 'skirt', 'sky', 'skype', 'skyped', 'skyving', 'slaaaaave', 'slacking', 'slap', 'slave', 'sleep', 'sleepin', 'sleeping', 'sleepingwith', 'sleeps', 'sleepwell', 'sleepy', 'slept', 'slice', 'slide', 'sliding', 'slightly', 'slippers', 'slippery', 'slo', 'slots', 'slow', 'slower', 'slowly', 'slp', 'slurp', 'smacks', 'small', 'smaller', 'smart', 'smartcall', 'smarter', 'smash', 'smashed', 'smell', 'smells', 'smeone', 'smidgin', 'smile', 'smiled', 'smiles', 'smiley', 'smiling', 'smith', 'smoke', 'smokes', 'smokin', 'smoking', 'smoothly', 'sms', 'smsco', 'smsing', 'smsrewards', 'smsservices', 'smth', 'sn', 'snake', 'snatch', 'sneham', 'snogs', 'snoring', 'snot', 'snow', 'snowball', 'snowboarding', 'snowman', 'snuggles', 'so', 'soc', 'sochte', 'social', 'sofa', 'soft', 'software', 'soiree', 'sol', 'soladha', 'sold', 'solve', 'solved', 'some', 'some1', 'somebody', 'someday', 'someone', 'somerset', 'somethin', 'something', 'sometime', 'sometimes', 'sometme', 'somewhat', 'somewhere', 'somewheresomeone', 'somewhr', 'somtimes', 'sonathaya', 'sonetimes', 'song', 'songs', 'sony', 'sonyericsson', 'soo', 'soon', 'sooner', 'soonlots', 'soooo', 'sooooo', 'sophas', 'sore', 'sorrow', 'sorrows', 'sorry', 'sort', 'sorta', 'sorted', 'sorting', 'sorts', 'sory', 'soryda', 'sos', 'soul', 'sound', 'sounding', 'sounds', 'soundtrack', 'sound陽s', 'soup', 'source', 'sources', 'south', 'southern', 'soz', 'sozi', 'sp', 'space', 'spacebucks', 'spaces', 'spanish', 'spare', 'spark', 'speak', 'speaking', 'special', 'speciale', 'specialisation', 'specialise', 'specially', 'specific', 'specify', 'specs', 'speechless', 'speed', 'speedchat', 'speeding', 'speling', 'spell', 'spelled', 'spelling', 'spend', 'spending', 'spent', 'spice', 'spider', 'spile', 'spin', 'spinout', 'spiral', 'spjanuary', 'spk', 'spl', 'splash', 'splashmobile', 'splat', 'splendid', 'split', 'splleing', 'spoil', 'spoiled', 'spoilt', 'spoke', 'spoken', 'sponsors', 'spontaneously', 'spook', 'spoon', 'spoons', 'sport', 'sportsx', 'spose', 'spot', 'spotty', 'sppok', 'spreadsheet', 'spree', 'spring', 'springs', 'sprint', 'spun', 'spys', 'sq825', 'squatting', 'squeeeeeze', 'squeezed', 'squid', 'squishy', 'srt', 'sry', 'st', 'stable', 'staff', 'stage', 'stagwood', 'stalk', 'stamped', 'stamps', 'stand', 'standard', 'standing', 'stapati', 'star', 'staring', 'stars', 'starshine', 'start', 'started', 'starting', 'starts', 'starve', 'starwars3', 'stash', 'stated', 'statement', 'statements', 'station', 'status', 'stay', 'stayed', 'stayin', 'staying', 'stays', 'std', 'stdtxtrate', 'steam', 'steamboat', 'steed', 'step', 'steps', 'stereo', 'sterling', 'sterm', 'steve', 'stewartsize', 'sth', 'sticky', 'stifled', 'stil', 'still', 'stink', 'stock', 'stocked', 'stockport', 'stolen', 'stomach', 'stomps', 'stone', 'stoners', 'stones', 'stool', 'stop', 'stop2', 'stop2stop', 'stopbcm', 'stopcs', 'stopped', 'stops', 'stopsms', 'store', 'stores', 'storming', 'story', 'str8', 'straight', 'strain', 'strange', 'stranger', 'stream', 'street', 'stress', 'stressful', 'stretch', 'strewn', 'strict', 'strike', 'strip', 'stripes', 'strips', 'strong', 'strongly', 'strt', 'strtd', 'sts', 'stu', 'stubborn', 'stuck', 'student', 'students', 'studies', 'studio', 'study', 'studying', 'studyn', 'stuff', 'stuff42moro', 'stuffed', 'stuffing', 'stuffs', 'stunning', 'stupid', 'style', 'styles', 'styling', 'stylish', 'stylist', 'sub', 'subject', 'subletting', 'submitted', 'submitting', 'subpoly', 'subs', 'subs16', 'subscribe', 'subscribe6gbp', 'subscribed', 'subscribers', 'subscription', 'subscriptions', 'subscriptn3gbp', 'subscrition', 'subtoitles', 'success', 'successful', 'successfully', 'such', 'sucker', 'suckers', 'sucks', 'sudden', 'sue', 'suffer', 'suffering', 'suffers', 'sufficient', 'sugababes', 'sugar', 'suggest', 'suggestion', 'suggestions', 'suite', 'suite342', 'suitemates', 'suits', 'sum1', 'sumfing', 'summer', 'summon', 'sumthin', 'sun', 'sun0819', 'sunday', 'sundayish', 'sunlight', 'sunny', 'sunoco', 'sunshine', 'suntec', 'sup', 'super', 'superior', 'supervisor', 'suply', 'supose', 'supplies', 'supply', 'support', 'supports', 'supposed', 'supreme', 'suprman', 'sura', 'sure', 'surely', 'surf', 'surfing', 'surgical', 'surly', 'surprise', 'surprised', 'surrounded', 'survey', 'sutra', 'sux', 'suzy', 'svc', 'sw7', 'sw73ss', 'swan', 'swap', 'swat', 'sway', 'swayze', 'swear', 'sweater', 'sweatter', 'sweet', 'sweetest', 'sweetheart', 'sweetie', 'sweets', 'swell', 'swimming', 'swimsuit', 'swing', 'swiss', 'switch', 'swoop', 'swt', 'swtheart', 'syllabus', 'symbol', 'sympathetic', 'synced', 'syria', 'system', 't91', 'ta', 'table', 'tablet', 'tablets', 'tacos', 'tactful', 'tag', 'tagged', 'tahan', 'tai', 'tait', 'taj', 'take', 'taken', 'takes', 'takin', 'taking', 'talent', 'talents', 'talk', 'talkbut', 'talked', 'talkin', 'talking', 'talks', 'tall', 'tallahassee', 'tallent', 'tampa', 'tank', 'tantrum', 'tap', 'tape', 'tariffs', 'tarot', 'tarpon', 'taste', 'tasts', 'tat', 'tata', 'tats', 'tattoos', 'tau', 'taunton', 'taxes', 'taxi', 'taxless', 'taylor', 'tayseer', 'tb', 'tbs', 'tc', 'tcr', 'tcs', 'tddnewsletter', 'tea', 'teach', 'teacher', 'teachers', 'teaches', 'teaching', 'team', 'teams', 'tear', 'tease', 'teasing', 'tech', 'technical', 'tee', 'teenager', 'teeth', 'tel', 'telephone', 'teletext', 'tell', 'telling', 'tellmiss', 'tells', 'telly', 'telphone', 'telugu', 'temales', 'temp', 'temple', 'ten', 'tenants', 'tenerife', 'teresa', 'term', 'terminated', 'terms', 'termsapply', 'terrible', 'terrific', 'terrorist', 'terry', 'tessy', 'test', 'testing', 'tests', 'tex', 'texas', 'texd', 'text', 'text82228', 'textbuddy', 'textcomp', 'texted', 'textin', 'texting', 'textoperator', 'textpod', 'texts', 'tgxxrz', 'th', 'than', 'thandiyachu', 'thangam', 'thank', 'thanks', 'thanks2', 'thanksgiving', 'thanku', 'thanx', 'thanx4', 'thasa', 'that', 'that2worzels', 'thats', 'that陽s', 'that됛', 'the', 'the4th', 'theacusations', 'theater', 'theatre', 'thedailydraw', 'their', 'thekingshead', 'them', 'themob', 'then', 'thenampet', 'theory', 'theplace', 'there', 'theres', 'these', 'thesis', 'thesmszone', 'thet', 'thew', 'they', 'theyre', 'thgt', 'thia', 'thin', 'thing', 'things', 'think', 'thinked', 'thinkin', 'thinking', 'thinks', 'thinl', 'thirtyeight', 'this', 'thk', 'thkin', 'thm', 'thnk', 'thnx', 'tho', 'those', 'thot', 'though', 'thought', 'thoughts', 'thousands', 'thread', 'threats', 'three', 'threw', 'thriller', 'throat', 'through', 'throw', 'throwin', 'throwing', 'thrown', 'throws', 'thru', 'ths', 'tht', 'thts', 'thuglyfe', 'thurs', 'thursday', 'thx', 'thy', 'tick', 'ticket', 'tickets', 'tiempo', 'tight', 'tightly', 'tigress', 'tihs', 'til', 'till', 'time', 'times', 'timin', 'timing', 'tip', 'tired', 'tiring', 'tirunelvai', 'tirunelvali', 'tirupur', 'tis', 'tissco', 'title', 'titles', 'tiwary', 'tiz', 'tke', 'tkts', 'tlk', 'tlp', 'tm', 'tming', 'tmorow', 'tmr', 'tmrw', 'tms', 'tnc', 'tncs', 'to', 'toa', 'toaday', 'tobacco', 'tobed', 'tocall', 'toclaim', 'today', 'todays', 'todo', 'tog', 'together', 'tohar', 'toilet', 'tok', 'token', 'told', 'toll', 'tom', 'tomarrow', 'tomeandsaid', 'tomo', 'tomorro', 'tomorrow', 'tomorw', 'tone', 'tones', 'tones2u', 'tones2you', 'tonexs', 'tonght', 'tonight', 'tonights', 'tonite', 'tons', 'too', 'took', 'tool', 'tooo', 'toot', 'tooth', 'toothpaste', 'tootsie', 'top', 'topic', 'toplay', 'topped', 'toppoly', 'tops', 'torch', 'tortilla', 'torture', 'tosend', 'toshiba', 'tot', 'total', 'totally', 'totes', 'touch', 'touched', 'tough', 'toughest', 'tour', 'towards', 'town', 'toyota', 'tp', 'track', 'trade', 'traditions', 'train', 'trained', 'training', 'trainners', 'trains', 'tram', 'transaction', 'transcribing', 'transfer', 'transfered', 'transfr', 'transport', 'trash', 'trauma', 'trav', 'travel', 'traveling', 'travelling', 'treacle', 'treadmill', 'treasure', 'treat', 'treated', 'treatin', 'treats', 'trebles', 'tree', 'trek', 'trends', 'trial', 'tried', 'trip', 'triple', 'trips', 'trishul', 'triumphed', 'trivia', 'tron', 'trouble', 'troubleshooting', 'truble', 'truck', 'true', 'true18', 'true攘c', 'truffles', 'truly', 'truro', 'trust', 'trusting', 'truth', 'try', 'trying', 'ts', 'tsandcs', 'tscs', 'tscs08714740323', 'tscs087147403231winawk', 'tsunami', 'tsunamis', 'tt', 'ttyl', 'tue', 'tues', 'tuesday', 'tuition', 'tul', 'tulip', 'tunde', 'tune', 'turn', 'turning', 'turns', 'tuth', 'tv', 'twat', 'twelve', 'twenty', 'twice', 'twiggs', 'twilight', 'twinks', 'twins', 'twittering', 'two', 'txt', 'txt250', 'txt43', 'txt82228', 'txtauction', 'txtin', 'txting', 'txtno', 'txts', 'txtstop', 'txttowin', 'txtx', 'tyler', 'type', 'types', 'typical', 'tyrone', 'u4', 'ubandu', 'ubi', 'ugadi', 'ugh', 'ugo', 'uh', 'uin', 'ujhhhhhhh', 'uk', 'uks', 'ultimate', 'ultimatum', 'um', 'umma', 'ummmmmaah', 'un', 'unable', 'unbelievable', 'unbreakable', 'unclaimed', 'uncle', 'uncles', 'uncomfortable', 'unconscious', 'unconvinced', 'uncountable', 'uncut', 'under', 'understand', 'understanding', 'understood', 'underwear', 'undrstndng', 'unemployed', 'uneventful', 'unfolds', 'unfortunately', 'unhappiness', 'uni', 'unicef', 'uniform', 'unintentional', 'unintentionally', 'unique', 'united', 'units', 'university', 'unjalur', 'unkempt', 'unknown', 'unless', 'unlimited', 'unmits', 'unnecessarily', 'unredeemed', 'unsold', 'unsub', 'unsubscribe', 'unsubscribed', 'untamed', 'until', 'up', 'up4', 'upd8', 'updat', 'update', 'update_now', 'upgrade', 'upgrading', 'upload', 'uploaded', 'upset', 'upstairs', 'upto', 'uptown', 'ur', 'urawinner', 'ure', 'urgent', 'urgently', 'urgh', 'urgnt', 'urgoin', 'urination', 'url', 'urmom', 'urn', 'urself', 'us', 'usb', 'usc', 'use', 'used', 'useful', 'useless', 'user', 'uses', 'usf', 'usher', 'using', 'usmle', 'usual', 'usually', 'utter', 'uttered', 'uup', 'uve', 'uworld', 'u됛챭e', 'vaazhthukkal', 'vaguely', 'vale', 'valentine', 'valentines', 'valid', 'valid12hrs', 'valuable', 'value', 'valued', 'values', 'varaya', 'vargu', 'various', 'varma', 'varunnathu', 'vary', 'vasai', 'vat', 'vava', 'vday', 've', 'vegas', 'vegetables', 'veggie', 'vehicle', 'velachery', 'venaam', 'venugopal', 'verified', 'verify', 'version', 'versus', 'very', 'vettam', 'vewy', 'via', 'vibrator', 'vic', 'victors', 'vid', 'video', 'videochat', 'videophones', 'videos', 'videosound', 'videosounds', 'view', 'vijay', 'vikky', 'vill', 'villa', 'village', 'violence', 'violet', 'vip', 'virgil', 'virgin', 'visionsms', 'visit', 'visiting', 'visitor', 'visitors', 'viva', 'vivek', 'vl', 'voda', 'vodafone', 'vodka', 'voice', 'voicemail', 'voila', 'volcanoes', 'vomit', 'vomitin', 'vomiting', 'vote', 'voted', 'vouch4me', 'voucher', 'vouchers', 'vpod', 'vry', 'vs', 'vu', 'w1', 'w111wx', 'w14rg', 'w1j', 'w1j6hl', 'w1jhl', 'w1t1jy', 'w45wq', 'w8in', 'wa', 'wa14', 'waaaat', 'wad', 'wah', 'wahala', 'wahay', 'waheed', 'wahleykkum', 'waht', 'wait', 'waited', 'waitin', 'waiting', 'wake', 'waking', 'wales', 'waliking', 'walk', 'walked', 'walking', 'wall', 'wallet', 'wallpaper', 'walls', 'walmart', 'walsall', 'wamma', 'wan', 'wan2', 'wana', 'wanna', 'wannatell', 'want', 'want2come', 'wanted', 'wanting', 'wants', 'wap', 'waqt', 'warm', 'warming', 'warned', 'warner', 'warning', 'warranty', 'was', 'washob', 'wasn', 'wasnt', 'waste', 'wasted', 'wasting', 'wat', 'watch', 'watches', 'watching', 'watchng', 'water', 'watever', 'wating', 'wats', 'wave', 'wavering', 'waves', 'way', 'way2sms', 'waz', 'wc1n3xx', 'we', 'weak', 'weaknesses', 'weapon', 'wear', 'wearing', 'weather', 'web', 'web2mobile', 'webeburnin', 'webpage', 'website', 'wed', 'wedding', 'wednesday', 'weds', 'wee', 'weed', 'week', 'weekdays', 'weekend', 'weekends', 'weekly', 'weeks', 'weigh', 'weight', 'weightloss', 'weird', 'weirdest', 'weirdo', 'welcome', 'welcomes', 'well', 'welp', 'wen', 'wenever', 'went', 'wenwecan', 'wer', 'were', 'werebored', 'weren', 'wesley', 'wesleys', 'western', 'westlife', 'westonzoyland', 'westshore', 'wet', 'wetherspoons', 'wewa', 'we됛', 'what', 'whatever', 'whats', 'whatsup', 'what됛', 'wheat', 'wheellock', 'when', 'whenever', 'whenevr', 'whens', 'where', 'whereare', 'wherever', 'wherevr', 'whether', 'which', 'while', 'whilltake', 'whispers', 'white', 'whn', 'who', 'whole', 'whom', 'whore', 'whos', 'whose', 'whr', 'why', 'wi', 'wicked', 'wicklow', 'wid', 'widelive', 'wif', 'wife', 'wifes', 'wihtuot', 'wikipedia', 'wil', 'wild', 'wildest', 'wildlife', 'will', 'willing', 'willpower', 'win', 'win150ppmx3age16', 'wind', 'window', 'windows', 'winds', 'windy', 'wine', 'wining', 'winner', 'winnersclub', 'winning', 'wins', 'winterstone', 'wipro', 'wire3', 'wisdom', 'wise', 'wish', 'wisheds', 'wishes', 'wishin', 'wishing', 'wishlist', 'wiskey', 'wit', 'with', 'withdraw', 'wither', 'within', 'without', 'witin', 'witot', 'wiv', 'wizzle', 'wk', 'wkend', 'wkent', 'wkg', 'wkly', 'wknd', 'wks', 'wlcome', 'wld', 'wml', 'wn', 'wnt', 'wo', 'wocay', 'woke', 'woken', 'woman', 'womdarfull', 'women', 'won', 'wondarfull', 'wonder', 'wonderful', 'wondering', 'wonders', 'wont', 'woo', 'woodland', 'woot', 'woould', 'worc', 'word', 'words', 'work', 'workand', 'workin', 'working', 'works', 'world', 'worlds', 'worms', 'worried', 'worries', 'worry', 'worrying', 'worse', 'worst', 'worth', 'worthless', 'wot', 'wotu', 'would', 'woulda', 'wouldn', 'wounds', 'wow', 'wrc', 'wrecked', 'wrench', 'wrenching', 'wright', 'write', 'writhing', 'wrk', 'wrkin', 'wrking', 'wrks', 'wrld', 'wrnog', 'wrong', 'wrongly', 'wrote', 'ws', 'wt', 'wtf', 'wud', 'wudn', 'wuld', 'wuldnt', 'wun', 'www', 'wylie', 'x29', 'x49', 'xafter', 'xam', 'xchat', 'xclusive', 'xin', 'xmas', 'xoxo', 'xuhui', 'xx', 'xxx', 'xxxmobilemovieclub', 'xxxx', 'xxxxx', 'xxxxxxxx', 'xy', 'ya', 'yahoo', 'yalrigu', 'yalru', 'yan', 'yar', 'yarasu', 'yaxxx', 'yay', 'yck', 'yeah', 'year', 'years', 'yeesh', 'yeh', 'yelling', 'yellow', 'yelow', 'yeovil', 'yep', 'yer', 'yes', 'yest', 'yesterday', 'yet', 'yetunde', 'yhl', 'yifeng', 'yijue', 'ym', 'ymca', 'yo', 'yoga', 'yogasana', 'yor', 'yorge', 'you', 'youdoing', 'youi', 'young', 'younger', 'youphone', 'your', 'youre', 'yourinclusive', 'yourjob', 'yours', 'yourself', 'youuuuu', 'youwanna', 'you됛', 'yowifes', 'yoyyooo', 'yr', 'yrs', 'ystrday', 'ything', 'yummmm', 'yummy', 'yun', 'yunny', 'yuo', 'yuou', 'yup', 'yupz', 'zac', 'zaher', 'zebra', 'zed', 'zeros', 'zhong', 'zindgi', 'zoe', 'zogtorius', 'zoom', 'zouk', 'zyada', '抉1', '檄n', '釀morrow', '鶯1', '鶯10', '鶯100', '鶯1000', '鶯1000call', '鶯1250', '鶯1450', '鶯150', '鶯1500', '鶯1million', '鶯2', '鶯200', '鶯2000', '鶯250', '鶯250k', '鶯3', '鶯350', '鶯4', '鶯400', '鶯5', '鶯50', '鶯500', '鶯5000', '鶯50award', '鶯54', '鶯6', '鶯600', '鶯71', '鶯75', '鶯750', '鶯79', '鶯800', '鶯900', '됛_', '뗛촸d', '롻큺', '諒it']"
     ]
    }
   ],
   "source": [
    "print(cv.get_feature_names(), end='')"
   ]
  },
  {
   "cell_type": "code",
   "execution_count": 41,
   "id": "85c061a1",
   "metadata": {},
   "outputs": [
    {
     "data": {
      "text/plain": [
       "BernoulliNB()"
      ]
     },
     "execution_count": 41,
     "metadata": {},
     "output_type": "execute_result"
    }
   ],
   "source": [
    "from sklearn.naive_bayes import BernoulliNB\n",
    "bNB = BernoulliNB()\n",
    "bNB.fit(X_traincv, y_train)"
   ]
  },
  {
   "cell_type": "code",
   "execution_count": 42,
   "id": "818f8972",
   "metadata": {},
   "outputs": [],
   "source": [
    "X_testcv = cv.transform(X_test)\n",
    "pred = bNB.predict(X_testcv)"
   ]
  },
  {
   "cell_type": "code",
   "execution_count": 46,
   "id": "0886e845",
   "metadata": {},
   "outputs": [
    {
     "name": "stdout",
     "output_type": "stream",
     "text": [
      "Accuracy score:  97.548 %\n"
     ]
    }
   ],
   "source": [
    "from sklearn.metrics import accuracy_score\n",
    "\n",
    "acc = accuracy_score(y_true = y_test, y_pred=pred)\n",
    "print('Accuracy score: ', round(acc*100, 3), \"%\")"
   ]
  },
  {
   "cell_type": "code",
   "execution_count": 47,
   "id": "68dc18e6",
   "metadata": {},
   "outputs": [
    {
     "name": "stdout",
     "output_type": "stream",
     "text": [
      "              precision    recall  f1-score   support\n",
      "\n",
      "           0       0.97      1.00      0.99      1448\n",
      "           1       0.99      0.82      0.90       224\n",
      "\n",
      "    accuracy                           0.98      1672\n",
      "   macro avg       0.98      0.91      0.94      1672\n",
      "weighted avg       0.98      0.98      0.97      1672\n",
      "\n"
     ]
    }
   ],
   "source": [
    "from sklearn.metrics import classification_report\n",
    "print(classification_report(y_true=y_test, y_pred=pred))"
   ]
  },
  {
   "cell_type": "code",
   "execution_count": null,
   "id": "485863d0",
   "metadata": {},
   "outputs": [],
   "source": []
  }
 ],
 "metadata": {
  "kernelspec": {
   "display_name": "Python 3 (ipykernel)",
   "language": "python",
   "name": "python3"
  },
  "language_info": {
   "codemirror_mode": {
    "name": "ipython",
    "version": 3
   },
   "file_extension": ".py",
   "mimetype": "text/x-python",
   "name": "python",
   "nbconvert_exporter": "python",
   "pygments_lexer": "ipython3",
   "version": "3.9.12"
  }
 },
 "nbformat": 4,
 "nbformat_minor": 5
}
